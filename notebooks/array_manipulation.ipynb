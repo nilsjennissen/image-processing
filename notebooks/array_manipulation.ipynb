{
 "cells": [
  {
   "cell_type": "markdown",
   "metadata": {
    "id": "_a2hajcA99-K",
    "tags": []
   },
   "source": [
    "# Session 5: Introduction to Numpy & Scikit Image\n",
    "\n",
    "**Resources:**\n",
    "\n",
    "* [SciPy](https://scipy.org)\n",
    "* [Scipy Lectures](https://scipy-lectures.org)\n",
    "* [NumPy](https://numpy.org)"
   ]
  },
  {
   "cell_type": "code",
   "execution_count": 1,
   "outputs": [],
   "source": [
    "import matplotlib.pyplot as plt"
   ],
   "metadata": {
    "collapsed": false,
    "ExecuteTime": {
     "start_time": "2023-05-02T17:20:49.074210Z",
     "end_time": "2023-05-02T17:20:49.457806Z"
    }
   }
  },
  {
   "cell_type": "markdown",
   "metadata": {
    "id": "rqqkI5xAqlhp"
   },
   "source": [
    "### How to use a function?"
   ]
  },
  {
   "cell_type": "code",
   "execution_count": 2,
   "metadata": {
    "collapsed": true,
    "id": "JpPzkH25qfdY",
    "jupyter": {
     "outputs_hidden": true
    },
    "tags": [],
    "ExecuteTime": {
     "start_time": "2023-04-19T14:15:20.910945Z",
     "end_time": "2023-04-19T14:15:27.245361Z"
    }
   },
   "outputs": [],
   "source": [
    "import numpy as np\n",
    "np.linspace?"
   ]
  },
  {
   "cell_type": "markdown",
   "metadata": {
    "id": "hDV-_nrtqtO2"
   },
   "source": [
    "### Viewing the source"
   ]
  },
  {
   "cell_type": "code",
   "execution_count": 3,
   "metadata": {
    "collapsed": true,
    "id": "q5wUdSZRq1Gy",
    "jupyter": {
     "outputs_hidden": true
    },
    "tags": [],
    "ExecuteTime": {
     "start_time": "2023-04-19T14:18:21.364658Z",
     "end_time": "2023-04-19T14:18:21.427382Z"
    }
   },
   "outputs": [],
   "source": [
    "\n",
    "np.linspace??"
   ]
  },
  {
   "cell_type": "markdown",
   "metadata": {
    "id": "StjjR2bDq4OA"
   },
   "source": [
    "### ? will work both in functions and variables"
   ]
  },
  {
   "cell_type": "code",
   "execution_count": 9,
   "metadata": {
    "collapsed": true,
    "id": "9p-L5aMqrCAi",
    "jupyter": {
     "outputs_hidden": true
    },
    "tags": [],
    "ExecuteTime": {
     "start_time": "2023-04-19T14:19:13.518328Z",
     "end_time": "2023-04-19T14:19:13.597014Z"
    }
   },
   "outputs": [],
   "source": [
    "a = \"SciPy is awesome ;)\"\n",
    "a?"
   ]
  },
  {
   "cell_type": "markdown",
   "metadata": {
    "id": "21DziKTsxMHl"
   },
   "source": [
    "# NumPy"
   ]
  },
  {
   "cell_type": "code",
   "execution_count": 10,
   "metadata": {
    "id": "LJnBBLmG132q",
    "ExecuteTime": {
     "start_time": "2023-04-19T14:19:14.651389Z",
     "end_time": "2023-04-19T14:19:14.683503Z"
    }
   },
   "outputs": [],
   "source": [
    "# Within IPython notebook, add multiple print capabilities\n",
    "from IPython.core.interactiveshell import InteractiveShell\n",
    "InteractiveShell.ast_node_interactivity = \"all\""
   ]
  },
  {
   "cell_type": "markdown",
   "metadata": {
    "id": "omaIgYI0xdrt"
   },
   "source": [
    "## NumPy arrays\n",
    "\n",
    "An array can contain:\n",
    "* Values of an experiment/simulation at discrete time steps\n",
    "* A signal recorded by a measurement device, e.g. sound wave\n",
    "* The pixels of an image, grey-level or colour\n",
    "* 3-D data measured at different X-Y-Z positions, e.g. MRI scan\n",
    "* …"
   ]
  },
  {
   "cell_type": "code",
   "execution_count": 11,
   "metadata": {
    "id": "Rxfd_QZkxYqh",
    "ExecuteTime": {
     "start_time": "2023-04-19T14:19:15.967245Z",
     "end_time": "2023-04-19T14:19:15.986042Z"
    }
   },
   "outputs": [],
   "source": [
    "import numpy as np\n",
    "a = np.array([0, 1, 2, 3])"
   ]
  },
  {
   "cell_type": "code",
   "execution_count": 12,
   "metadata": {
    "ExecuteTime": {
     "start_time": "2023-04-19T14:19:16.966184Z",
     "end_time": "2023-04-19T14:19:17.052892Z"
    }
   },
   "outputs": [
    {
     "data": {
      "text/plain": "(4,)"
     },
     "execution_count": 12,
     "metadata": {},
     "output_type": "execute_result"
    }
   ],
   "source": [
    "np.shape(a)"
   ]
  },
  {
   "cell_type": "markdown",
   "metadata": {
    "id": "mjM8bWObyyKJ"
   },
   "source": [
    "### NumPy is memory efficient container that provides fast numerical operations"
   ]
  },
  {
   "cell_type": "code",
   "execution_count": 13,
   "metadata": {
    "colab": {
     "base_uri": "https://localhost:8080/"
    },
    "id": "-isSwwYPy-LY",
    "outputId": "4380b1d0-6657-4d59-8ab0-6d5f33526d16",
    "ExecuteTime": {
     "start_time": "2023-04-19T14:19:17.983936Z",
     "end_time": "2023-04-19T14:19:41.057331Z"
    }
   },
   "outputs": [
    {
     "name": "stdout",
     "output_type": "stream",
     "text": [
      "194 µs ± 2.63 µs per loop (mean ± std. dev. of 7 runs, 10,000 loops each)\n",
      "915 ns ± 11.7 ns per loop (mean ± std. dev. of 7 runs, 1,000,000 loops each)\n"
     ]
    }
   ],
   "source": [
    "L = range(1000)\n",
    "%timeit [i**2 for i in L]\n",
    "\n",
    "a = np.arange(1000)\n",
    "%timeit a**2"
   ]
  },
  {
   "cell_type": "code",
   "execution_count": 14,
   "metadata": {
    "ExecuteTime": {
     "start_time": "2023-04-19T14:19:41.056826Z",
     "end_time": "2023-04-19T14:19:41.061496Z"
    }
   },
   "outputs": [
    {
     "data": {
      "text/plain": "range(0, 1000)"
     },
     "execution_count": 14,
     "metadata": {},
     "output_type": "execute_result"
    }
   ],
   "source": [
    "L"
   ]
  },
  {
   "cell_type": "markdown",
   "metadata": {
    "id": "6z2ic525zjbM"
   },
   "source": [
    "### Reference documentation\n",
    "On the web: http://docs.scipy.org/"
   ]
  },
  {
   "cell_type": "code",
   "execution_count": 15,
   "metadata": {
    "collapsed": true,
    "id": "nPEYL-zEzrOh",
    "jupyter": {
     "outputs_hidden": true
    },
    "tags": [],
    "ExecuteTime": {
     "start_time": "2023-04-19T14:19:41.061160Z",
     "end_time": "2023-04-19T14:19:41.064911Z"
    }
   },
   "outputs": [],
   "source": [
    "# Interactive help\n",
    "np.array?"
   ]
  },
  {
   "cell_type": "code",
   "execution_count": 16,
   "metadata": {
    "collapsed": true,
    "id": "LGQzsRkTz6Jt",
    "jupyter": {
     "outputs_hidden": true
    },
    "tags": [],
    "ExecuteTime": {
     "start_time": "2023-04-19T14:19:41.065089Z",
     "end_time": "2023-04-19T14:19:42.084867Z"
    }
   },
   "outputs": [
    {
     "name": "stdout",
     "output_type": "stream",
     "text": [
      "Search results for 'create array'\n",
      "---------------------------------\n",
      "numpy.memmap\n",
      "    Create a memory-map to an array stored in a *binary* file on disk.\n",
      "numpy.char.array\n",
      "    Create a `chararray`.\n",
      "numpy.diagflat\n",
      "    Create a two-dimensional array with the flattened input as a diagonal.\n",
      "numpy.fromiter\n",
      "    Create a new 1-dimensional array from an iterable object.\n",
      "numpy.partition\n",
      "    Return a partitioned copy of an array.\n",
      "numpy.from_dlpack\n",
      "    Create a NumPy array from an object implementing the ``__dlpack__``\n",
      "numpy.rec.fromarrays\n",
      "    Create a record array from a (flat) list of arrays\n",
      "numpy.ctypeslib.as_array\n",
      "    Create a numpy array from a ctypes array or POINTER.\n",
      "numpy.ma.diagflat\n",
      "    Create a two-dimensional array with the flattened input as a diagonal.\n",
      "numpy.ma.make_mask\n",
      "    Create a boolean mask from an array.\n",
      "numpy.rec.fromfile\n",
      "    Create an array from binary file data\n",
      "numpy.rec.fromstring\n",
      "    Create a record array from binary data\n",
      "numpy.lib.Arrayterator\n",
      "    Buffered iterator for big arrays.\n",
      "numpy.rec.fromrecords\n",
      "    Create a recarray from a list of records in text form.\n",
      "numpy.ctypeslib.as_ctypes\n",
      "    Create and return a ctypes object from a numpy array.  Actually\n",
      "numpy.ma.mrecords.fromarrays\n",
      "    Creates a mrecarray from a (flat) list of masked arrays.\n",
      "numpy.ma.mvoid.__new__\n",
      "    Create a new masked array from scratch.\n",
      "numpy.ma.MaskedArray.__new__\n",
      "    Create a new masked array from scratch.\n",
      "numpy.ma.mrecords.fromtextfile\n",
      "    Creates a mrecarray from data stored in the file `filename`.\n",
      "numpy.array\n",
      "    array(object, dtype=None, *, copy=True, order='K', subok=False, ndmin=0,\n",
      "numpy.asarray\n",
      "    Convert the input to an array.\n",
      "numpy.ndarray\n",
      "    ndarray(shape, dtype=float, buffer=None, offset=0,\n",
      "numpy.recarray\n",
      "    Construct an ndarray that allows field access using attributes.\n",
      "numpy.chararray\n",
      "    chararray(shape, itemsize=1, unicode=False, buffer=None, offset=0,\n",
      "numpy.exp\n",
      "    Calculate the exponential of all elements in the input array.\n",
      "numpy.pad\n",
      "    Pad an array.\n",
      "numpy.asanyarray\n",
      "    Convert the input to an ndarray, but pass ndarray subclasses through.\n",
      "numpy.cbrt\n",
      "    Return the cube-root of an array, element-wise.\n",
      "numpy.copy\n",
      "    Return an array copy of the given object.\n",
      "numpy.diag\n",
      "    Extract a diagonal or construct a diagonal array.\n",
      "numpy.exp2\n",
      "    Calculate `2**p` for all `p` in the input array.\n",
      "numpy.fmax\n",
      "    Element-wise maximum of array elements.\n",
      "numpy.fmin\n",
      "    Element-wise minimum of array elements.\n",
      "numpy.load\n",
      "    Load arrays or pickled objects from ``.npy``, ``.npz`` or pickled files.\n",
      "numpy.modf\n",
      "    Return the fractional and integral parts of an array, element-wise.\n",
      "numpy.rint\n",
      "    Round elements of the array to the nearest integer.\n",
      "numpy.sort\n",
      "    Return a sorted copy of an array.\n",
      "numpy.sqrt\n",
      "    Return the non-negative square-root of an array, element-wise.\n",
      "numpy.void\n",
      "    Create a new structured or unstructured void scalar.\n",
      "numpy.array_equiv\n",
      "    Returns True if input arrays are shape consistent and all elements equal.\n",
      "numpy.dtype\n",
      "    Create a data type object.\n",
      "numpy.expm1\n",
      "    Calculate ``exp(x) - 1`` for all elements in the array.\n",
      "numpy.isnan\n",
      "    Test element-wise for NaN and return result as a boolean array.\n",
      "numpy.isnat\n",
      "    Test element-wise for NaT (not a time) and return result as a boolean array.\n",
      "numpy.log10\n",
      "    Return the base 10 logarithm of the input array, element-wise.\n",
      "numpy.log1p\n",
      "    Return the natural logarithm of one plus the input array, element-wise.\n",
      "numpy.power\n",
      "    First array elements raised to powers from second array, element-wise.\n",
      "numpy.ufunc\n",
      "    Functions that operate element by element on whole arrays.\n",
      "numpy.choose\n",
      "    Construct an array from an index array and a list of arrays to choose from.\n",
      "numpy.nditer\n",
      "    Efficient multi-dimensional iterator object to iterate over arrays.\n",
      "numpy.maximum\n",
      "    Element-wise maximum of array elements.\n",
      "numpy.minimum\n",
      "    Element-wise minimum of array elements.\n",
      "numpy.meshgrid\n",
      "    Return coordinate matrices from coordinate vectors.\n",
      "numpy.swapaxes\n",
      "    Interchange two axes of an array.\n",
      "numpy.full_like\n",
      "    Return a full array with the same shape and type as a given array.\n",
      "numpy.ones_like\n",
      "    Return an array of ones with the same shape and type as a given array.\n",
      "numpy.rec.array\n",
      "    Construct a record array from a wide-variety of objects.\n",
      "numpy.bitwise_or\n",
      "    Compute the bit-wise OR of two arrays element-wise.\n",
      "numpy.datetime64\n",
      "    If created from a 64-bit integer, it represents an offset from\n",
      "numpy.empty_like\n",
      "    Return a new array with the same shape and type as a given array.\n",
      "numpy.frombuffer\n",
      "    Interpret a buffer as a 1-dimensional array.\n",
      "numpy.zeros_like\n",
      "    Return an array of zeros with the same shape and type as a given array.\n",
      "numpy.asarray_chkfinite\n",
      "    Convert the input to an array, checking for NaNs or Infs.\n",
      "numpy.bitwise_and\n",
      "    Compute the bit-wise AND of two arrays element-wise.\n",
      "numpy.bitwise_xor\n",
      "    Compute the bit-wise XOR of two arrays element-wise.\n",
      "numpy.float_power\n",
      "    First array elements raised to powers from second array, element-wise.\n",
      "numpy.diag_indices\n",
      "    Return the indices to access the main diagonal of an array.\n",
      "numpy.ma.exp\n",
      "    Calculate the exponential of all elements in the input array.\n",
      "numpy.nested_iters\n",
      "    Create nditers for use in nested loops\n",
      "numpy.ma.mrecords.MaskedRecords.__new__\n",
      "    Create a new masked array from scratch.\n",
      "numpy.ma.sqrt\n",
      "    Return the non-negative square-root of an array, element-wise.\n",
      "numpy.ma.log10\n",
      "    Return the base 10 logarithm of the input array, element-wise.\n",
      "numpy.chararray.tolist\n",
      "    a.tolist()\n",
      "numpy.put_along_axis\n",
      "    Put values into the destination array by matching 1d index and data slices.\n",
      "numpy.ma.choose\n",
      "    Use an index array to construct a new array from a list of choices.\n",
      "numpy.ma.maximum\n",
      "    Element-wise maximum of array elements.\n",
      "numpy.ma.minimum\n",
      "    Element-wise minimum of array elements.\n",
      "numpy.savez_compressed\n",
      "    Save several arrays into a single file in compressed ``.npz`` format.\n",
      "numpy.matlib.rand\n",
      "    Return a matrix of random values with given shape.\n",
      "numpy.datetime_as_string\n",
      "    Convert an array of datetimes into an array of strings.\n",
      "numpy.ma.ones_like\n",
      "    Return an array of ones with the same shape and type as a given array.\n",
      "numpy.ma.bitwise_or\n",
      "    Compute the bit-wise OR of two arrays element-wise.\n",
      "numpy.ma.frombuffer\n",
      "    Interpret a buffer as a 1-dimensional array.\n",
      "numpy.ma.zeros_like\n",
      "    Return an array of zeros with the same shape and type as a given array.\n",
      "numpy.ma.bitwise_and\n",
      "    Compute the bit-wise AND of two arrays element-wise.\n",
      "numpy.ma.bitwise_xor\n",
      "    Compute the bit-wise XOR of two arrays element-wise.\n",
      "numpy.ma.make_mask_none\n",
      "    Return a boolean mask of the given shape, filled with False.\n",
      "numpy.ma.tests.test_subclassing.MSubArray.__new__\n",
      "    Create a new masked array from scratch.\n",
      "numpy.ma.tests.test_subclassing.SubMaskedArray.__new__\n",
      "    Create a new masked array from scratch.\n",
      "numpy.ma.mrecords.fromrecords\n",
      "    Creates a MaskedRecords from a list of records.\n",
      "numpy.abs\n",
      "    Calculate the absolute value element-wise.\n",
      "numpy.add\n",
      "    Add arguments element-wise.\n",
      "numpy.cos\n",
      "    Cosine element-wise.\n",
      "numpy.log\n",
      "    Natural logarithm, element-wise.\n",
      "numpy.lib.recfunctions.require_fields\n",
      "    Casts a structured array to a new dtype using assignment by field-name.\n",
      "numpy.mod\n",
      "    Returns the element-wise remainder of division.\n",
      "numpy.sin\n",
      "    Trigonometric sine, element-wise.\n",
      "numpy.tan\n",
      "    Compute tangent element-wise.\n",
      "numpy.ceil\n",
      "    Return the ceiling of the input, element-wise.\n",
      "numpy.conj\n",
      "    Return the complex conjugate, element-wise.\n",
      "numpy.cosh\n",
      "    Hyperbolic cosine, element-wise.\n",
      "numpy.fabs\n",
      "    Compute the absolute values element-wise.\n",
      "numpy.fmod\n",
      "    Returns the element-wise remainder of division.\n",
      "numpy.less\n",
      "    Return the truth value of (x1 < x2) element-wise.\n",
      "numpy.log2\n",
      "    Base-2 logarithm of `x`.\n",
      "numpy.sign\n",
      "    Returns an element-wise indication of the sign of a number.\n",
      "numpy.sinh\n",
      "    Hyperbolic sine, element-wise.\n",
      "numpy.tanh\n",
      "    Compute hyperbolic tangent element-wise.\n",
      "numpy.equal\n",
      "    Return (x1 == x2) element-wise.\n",
      "numpy.floor\n",
      "    Return the floor of the input, element-wise.\n",
      "numpy.frexp\n",
      "    Decompose the elements of x into mantissa and twos exponent.\n",
      "numpy.hypot\n",
      "    Given the \"legs\" of a right triangle, return its hypotenuse.\n",
      "numpy.isinf\n",
      "    Test element-wise for positive or negative infinity.\n",
      "numpy.ldexp\n",
      "    Returns x1 * 2**x2, element-wise.\n",
      "numpy.trunc\n",
      "    Return the truncated value of the input, element-wise.\n",
      "numpy.arccos\n",
      "    Trigonometric inverse cosine, element-wise.\n",
      "numpy.arcsin\n",
      "    Inverse sine, element-wise.\n",
      "numpy.arctan\n",
      "    Trigonometric inverse tangent, element-wise.\n",
      "numpy.around\n",
      "    Evenly round to the given number of decimals.\n",
      "numpy.divide\n",
      "    Divide arguments element-wise.\n",
      "numpy.divmod\n",
      "    Return element-wise quotient and remainder simultaneously.\n",
      "numpy.source\n",
      "    Print or write to a file the source code for a NumPy object.\n",
      "numpy.square\n",
      "    Return the element-wise square of the input.\n",
      "numpy.arccosh\n",
      "    Inverse hyperbolic cosine, element-wise.\n",
      "numpy.arcsinh\n",
      "    Inverse hyperbolic sine element-wise.\n",
      "numpy.arctan2\n",
      "    Element-wise arc tangent of ``x1/x2`` choosing the quadrant correctly.\n",
      "numpy.arctanh\n",
      "    Inverse hyperbolic tangent element-wise.\n",
      "numpy.deg2rad\n",
      "    Convert angles from degrees to radians.\n",
      "numpy.degrees\n",
      "    Convert angles from radians to degrees.\n",
      "numpy.greater\n",
      "    Return the truth value of (x1 > x2) element-wise.\n",
      "numpy.rad2deg\n",
      "    Convert angles from radians to degrees.\n",
      "numpy.radians\n",
      "    Convert angles from degrees to radians.\n",
      "numpy.signbit\n",
      "    Returns element-wise True where signbit is set (less than zero).\n",
      "numpy.spacing\n",
      "    Return the distance between x and the nearest adjacent number.\n",
      "numpy.copysign\n",
      "    Change the sign of x1 to that of x2, element-wise.\n",
      "numpy.diagonal\n",
      "    Return specified diagonals.\n",
      "numpy.isfinite\n",
      "    Test element-wise for finiteness (not infinity and not Not a Number).\n",
      "numpy.multiply\n",
      "    Multiply arguments element-wise.\n",
      "numpy.negative\n",
      "    Numerical negative, element-wise.\n",
      "numpy.subtract\n",
      "    Subtract arguments, element-wise.\n",
      "numpy.heaviside\n",
      "    Compute the Heaviside step function.\n",
      "numpy.logaddexp\n",
      "    Logarithm of the sum of exponentiations of the inputs.\n",
      "numpy.nextafter\n",
      "    Return the next floating-point value after x1 towards x2, element-wise.\n",
      "numpy.not_equal\n",
      "    Return (x1 != x2) element-wise.\n",
      "numpy.left_shift\n",
      "    Shift the bits of an integer to the left.\n",
      "numpy.less_equal\n",
      "    Return the truth value of (x1 <= x2) element-wise.\n",
      "numpy.logaddexp2\n",
      "    Logarithm of the sum of exponentiations of the inputs in base-2.\n",
      "numpy.logical_or\n",
      "    Compute the truth value of x1 OR x2 element-wise.\n",
      "numpy.nan_to_num\n",
      "    Replace NaN with zero and infinity with large finite numbers (default\n",
      "numpy.reciprocal\n",
      "    Return the reciprocal of the argument, element-wise.\n",
      "numpy.bitwise_not\n",
      "    Compute bit-wise inversion, or bit-wise NOT, element-wise.\n",
      "numpy.einsum_path\n",
      "    Evaluates the lowest cost contraction order for an einsum expression by\n",
      "numpy.histogram2d\n",
      "    Compute the bi-dimensional histogram of two data samples.\n",
      "numpy.logical_and\n",
      "    Compute the truth value of x1 AND x2 element-wise.\n",
      "numpy.logical_not\n",
      "    Compute the truth value of NOT x element-wise.\n",
      "numpy.logical_xor\n",
      "    Compute the truth value of x1 XOR x2, element-wise.\n",
      "numpy.right_shift\n",
      "    Shift the bits of an integer to the right.\n",
      "numpy.ma.abs\n",
      "    Calculate the absolute value element-wise.\n",
      "numpy.ma.add\n",
      "    Add arguments element-wise.\n",
      "numpy.ma.cos\n",
      "    Cosine element-wise.\n",
      "numpy.floor_divide\n",
      "    Return the largest integer smaller or equal to the division of the inputs.\n",
      "numpy.ma.log\n",
      "    Natural logarithm, element-wise.\n",
      "numpy.ma.mod\n",
      "    Returns the element-wise remainder of division.\n",
      "numpy.ma.sin\n",
      "    Trigonometric sine, element-wise.\n",
      "numpy.ma.tan\n",
      "    Compute tangent element-wise.\n",
      "numpy.ma.ceil\n",
      "    Return the ceiling of the input, element-wise.\n",
      "numpy.fft.ifft\n",
      "    Compute the one-dimensional inverse discrete Fourier Transform.\n",
      "numpy.ma.cosh\n",
      "    Hyperbolic cosine, element-wise.\n",
      "numpy.ma.fabs\n",
      "    Compute the absolute values element-wise.\n",
      "numpy.ma.fmod\n",
      "    Returns the element-wise remainder of division.\n",
      "numpy.greater_equal\n",
      "    Return the truth value of (x1 >= x2) element-wise.\n",
      "numpy.ma.less\n",
      "    Return the truth value of (x1 < x2) element-wise.\n",
      "numpy.ma.log2\n",
      "    Base-2 logarithm of `x`.\n",
      "numpy.ma.sinh\n",
      "    Hyperbolic sine, element-wise.\n",
      "numpy.ma.tanh\n",
      "    Compute hyperbolic tangent element-wise.\n",
      "numpy.ma.tests.test_subclassing.SubArray\n",
      "    ndarray(shape, dtype=float, buffer=None, offset=0,\n",
      "numpy.busdaycalendar\n",
      "    A business day calendar object that efficiently stores information\n",
      "numpy.fft.ifftn\n",
      "    Compute the N-dimensional inverse discrete Fourier Transform.\n",
      "numpy.ma.equal\n",
      "    Return (x1 == x2) element-wise.\n",
      "numpy.ma.floor\n",
      "    Return the floor of the input, element-wise.\n",
      "numpy.ma.hypot\n",
      "    Given the \"legs\" of a right triangle, return its hypotenuse.\n",
      "numpy.ma.arccos\n",
      "    Trigonometric inverse cosine, element-wise.\n",
      "numpy.ma.arcsin\n",
      "    Inverse sine, element-wise.\n",
      "numpy.ma.arctan\n",
      "    Trigonometric inverse tangent, element-wise.\n",
      "numpy.ma.divide\n",
      "    Divide arguments element-wise.\n",
      "numpy.lib.recfunctions.unstructured_to_structured\n",
      "    Converts an n-D unstructured array into an (n-1)-D structured array.\n",
      "numpy.ma.arccosh\n",
      "    Inverse hyperbolic cosine, element-wise.\n",
      "numpy.ma.arcsinh\n",
      "    Inverse hyperbolic sine element-wise.\n",
      "numpy.ma.arctan2\n",
      "    Element-wise arc tangent of ``x1/x2`` choosing the quadrant correctly.\n",
      "numpy.ma.arctanh\n",
      "    Inverse hyperbolic tangent element-wise.\n",
      "numpy.ma.greater\n",
      "    Return the truth value of (x1 > x2) element-wise.\n",
      "numpy.ma.multiply\n",
      "    Multiply arguments element-wise.\n",
      "numpy.ma.negative\n",
      "    Numerical negative, element-wise.\n",
      "numpy.ma.subtract\n",
      "    Subtract arguments, element-wise.\n",
      "numpy.ma.conjugate\n",
      "    Return the complex conjugate, element-wise.\n",
      "numpy.ma.not_equal\n",
      "    Return (x1 != x2) element-wise.\n",
      "numpy.ma.remainder\n",
      "    Returns the element-wise remainder of division.\n",
      "numpy.ma.empty_like\n",
      "    empty_like(prototype, dtype=None, order='K', subok=True, shape=None)\n",
      "numpy.ma.less_equal\n",
      "    Return the truth value of (x1 <= x2) element-wise.\n",
      "numpy.ma.logical_or\n",
      "    Compute the truth value of x1 OR x2 element-wise.\n",
      "numpy.ma.logical_and\n",
      "    Compute the truth value of x1 AND x2 element-wise.\n",
      "numpy.ma.logical_not\n",
      "    Compute the truth value of NOT x element-wise.\n",
      "numpy.ma.logical_xor\n",
      "    Compute the truth value of x1 XOR x2, element-wise.\n",
      "numpy.ma.true_divide\n",
      "    Divide arguments element-wise.\n",
      "numpy.ma.floor_divide\n",
      "    Return the largest integer smaller or equal to the division of the inputs.\n",
      "numpy.ma.greater_equal\n",
      "    Return the truth value of (x1 >= x2) element-wise.\n",
      "numpy.ma.tests.test_subclassing.ComplicatedSubArray\n",
      "    ndarray(shape, dtype=float, buffer=None, offset=0,\n",
      "numpy.random.RandomState.rand\n",
      "    Random values in a given shape.\n",
      "numpy.random.Generator.permuted\n",
      "    Randomly permute `x` along axis `axis`."
     ]
    }
   ],
   "source": [
    "# Looking for some stuff\n",
    "np.lookfor('create array') "
   ]
  },
  {
   "cell_type": "code",
   "execution_count": 17,
   "metadata": {
    "id": "KoaEdrtu0IZL",
    "ExecuteTime": {
     "start_time": "2023-04-19T14:19:42.086829Z",
     "end_time": "2023-04-19T14:19:42.089575Z"
    }
   },
   "outputs": [],
   "source": [
    "# Looking for something when some parts of the word are known\n",
    "np.con*?"
   ]
  },
  {
   "cell_type": "markdown",
   "metadata": {
    "id": "7df4nf3N01j4"
   },
   "source": [
    "### Manual creation of arrays"
   ]
  },
  {
   "cell_type": "markdown",
   "metadata": {
    "id": "g38RFzmI1Pq0"
   },
   "source": [
    "#### 1D"
   ]
  },
  {
   "cell_type": "code",
   "execution_count": 18,
   "metadata": {
    "colab": {
     "base_uri": "https://localhost:8080/"
    },
    "id": "UAKQlq2t1AUB",
    "outputId": "e03770aa-c08a-4239-8398-f2837a462f56",
    "ExecuteTime": {
     "start_time": "2023-04-19T14:19:42.091591Z",
     "end_time": "2023-04-19T14:19:42.094599Z"
    }
   },
   "outputs": [
    {
     "name": "stdout",
     "output_type": "stream",
     "text": [
      "Array  [0 1 2 3]\n",
      "\n",
      "Number of dimension  1\n",
      "\n",
      "Shape of the array  (4,)\n",
      "\n",
      "Lenght of array  4\n"
     ]
    }
   ],
   "source": [
    "# Create 1D array\n",
    "a = np.array([0, 1, 2, 3])\n",
    "print(\"Array \", a)\n",
    "\n",
    "# Print dimensions of array\n",
    "print(\"\\nNumber of dimension \", a.ndim)\n",
    "\n",
    "# Print shape of array\n",
    "print(\"\\nShape of the array \", a.shape)\n",
    "\n",
    "# Print the lenght of the array\n",
    "print(\"\\nLenght of array \", len(a))\n"
   ]
  },
  {
   "cell_type": "markdown",
   "metadata": {
    "id": "58MxBexc2igs"
   },
   "source": [
    "#### 2D, 3D..."
   ]
  },
  {
   "cell_type": "code",
   "execution_count": 19,
   "metadata": {
    "colab": {
     "base_uri": "https://localhost:8080/"
    },
    "id": "srqagUuu2lu1",
    "outputId": "b68bde63-2a69-4fa1-89f4-559f3dda404f",
    "ExecuteTime": {
     "start_time": "2023-04-19T14:19:42.096655Z",
     "end_time": "2023-04-19T14:19:42.100352Z"
    }
   },
   "outputs": [
    {
     "name": "stdout",
     "output_type": "stream",
     "text": [
      "2x3array \n",
      " [[0 1 2]\n",
      " [3 4 5]]\n",
      "\n",
      "2x3 array dimensions  2\n",
      "\n",
      "2x3 array shape  (2, 3)\n",
      "\n",
      "Lenght of 2x3 array  2\n",
      "\n",
      "Lenght (first dimension) of 2x3 array  3\n",
      "\n",
      "Lenght (second dimension) of 2x3 array  3\n"
     ]
    },
    {
     "data": {
      "text/plain": "array([0, 1, 2])"
     },
     "execution_count": 19,
     "metadata": {},
     "output_type": "execute_result"
    },
    {
     "data": {
      "text/plain": "array([3, 4, 5])"
     },
     "execution_count": 19,
     "metadata": {},
     "output_type": "execute_result"
    }
   ],
   "source": [
    "# Create 2x3 array\n",
    "b = np.array([[0, 1, 2], [3, 4, 5]]) \n",
    "print(\"2x3array \\n\", b)\n",
    "\n",
    "# Print array dimensions\n",
    "print(\"\\n2x3 array dimensions \", b.ndim)\n",
    "\n",
    "#Print array shape\n",
    "print(\"\\n2x3 array shape \", b.shape)\n",
    "\n",
    "# Print length of 2x3 array (the first dimension)\n",
    "print(\"\\nLenght of 2x3 array \", len(b))\n",
    "print(\"\\nLenght (first dimension) of 2x3 array \", len(b[0]))\n",
    "print(\"\\nLenght (second dimension) of 2x3 array \", len(b[1]))\n",
    "\n",
    "b[0]\n",
    "b[1]"
   ]
  },
  {
   "cell_type": "code",
   "execution_count": 20,
   "metadata": {
    "colab": {
     "base_uri": "https://localhost:8080/"
    },
    "id": "vF1xb1FW2wWS",
    "outputId": "95ebbbf6-4063-4220-862f-83d326705e90",
    "ExecuteTime": {
     "start_time": "2023-04-19T14:19:42.102974Z",
     "end_time": "2023-04-19T14:19:42.171514Z"
    }
   },
   "outputs": [
    {
     "name": "stdout",
     "output_type": "stream",
     "text": [
      "3x2x3 array \n",
      " [[[ 0  1  2]\n",
      "  [ 3  4  5]]\n",
      "\n",
      " [[ 6  7  8]\n",
      "  [ 9 10 11]]\n",
      "\n",
      " [[12 13 14]\n",
      "  [15 16 17]]]\n",
      "\n",
      "3x2x3 array dimensions  3\n",
      "\n",
      "3x2x3 array shape  (3, 2, 3)\n",
      "\n",
      "First dimension of 3x2x3 array  2\n",
      "\n",
      "Second dimension of 3x2x3 array  2\n",
      "\n",
      "Third dimension of 3x2x3 array  2\n",
      "\n",
      "First dimension \n",
      " [[0 1 2]\n",
      " [3 4 5]]\n",
      "\n",
      "First dimension \n",
      " [[ 6  7  8]\n",
      " [ 9 10 11]]\n",
      "\n",
      "First dimension \n",
      " [[12 13 14]\n",
      " [15 16 17]]\n"
     ]
    }
   ],
   "source": [
    "# Create 3x2x3 array\n",
    "b = np.array([[[0, 1, 2], [3, 4, 5]], \n",
    "              [[6, 7, 8], [9, 10, 11]], \n",
    "              [[12, 13, 14], [15, 16, 17]]]) \n",
    "print(\"3x2x3 array \\n\", b)\n",
    "\n",
    "# Print array dimensions\n",
    "print(\"\\n3x2x3 array dimensions \", b.ndim)\n",
    "\n",
    "#Print array shape\n",
    "print(\"\\n3x2x3 array shape \", b.shape)\n",
    "\n",
    "# Print length of 3x2x3 array (the first dimension)\n",
    "print(\"\\nFirst dimension of 3x2x3 array \", len(b[0]))\n",
    "print(\"\\nSecond dimension of 3x2x3 array \", len(b[1]))\n",
    "print(\"\\nThird dimension of 3x2x3 array \", len(b[2]))\n",
    "\n",
    "print(\"\\nFirst dimension \\n\", b[0])\n",
    "print(\"\\nFirst dimension \\n\", b[1])\n",
    "print(\"\\nFirst dimension \\n\", b[2])"
   ]
  },
  {
   "cell_type": "markdown",
   "metadata": {
    "id": "x0Svpviz-voT"
   },
   "source": [
    "### Creating arrays"
   ]
  },
  {
   "cell_type": "markdown",
   "metadata": {
    "id": "dcb4RLIw-zQc"
   },
   "source": [
    "#### np.arange: enter data evenly spaced\n",
    "Return evenly spaced values within a given interval.\n",
    "\n",
    "Values are generated within the half-open interval ``[start, stop)``\n",
    "(in other words, the interval including `start` but excluding `stop`).\n",
    "For integer arguments the function is equivalent to the Python built-in\n",
    "`range` function, but returns an ndarray rather than a list.\n",
    "\n",
    "When using a non-integer step, such as 0.1, the results will often not\n",
    "be consistent.  It is better to use `numpy.linspace` for these cases."
   ]
  },
  {
   "cell_type": "code",
   "execution_count": 21,
   "metadata": {
    "colab": {
     "base_uri": "https://localhost:8080/"
    },
    "id": "7jD1yQVz_HKf",
    "outputId": "07df97b7-b8f8-4e04-9d7e-ead81d2bba42",
    "ExecuteTime": {
     "start_time": "2023-04-19T14:19:42.105071Z",
     "end_time": "2023-04-19T14:19:42.184938Z"
    }
   },
   "outputs": [
    {
     "data": {
      "text/plain": "array([0, 1, 2, 3, 4, 5, 6, 7, 8, 9])"
     },
     "execution_count": 21,
     "metadata": {},
     "output_type": "execute_result"
    },
    {
     "name": "stdout",
     "output_type": "stream",
     "text": [
      "\n"
     ]
    },
    {
     "data": {
      "text/plain": "array([0, 2, 4, 6, 8])"
     },
     "execution_count": 21,
     "metadata": {},
     "output_type": "execute_result"
    }
   ],
   "source": [
    "a = np.arange(10) # 0 .. n-1 \n",
    "a\n",
    "\n",
    "print(\"\")\n",
    "\n",
    "b = np.arange(0, 10, 2) # start, end (exclusive), step\n",
    "b"
   ]
  },
  {
   "cell_type": "markdown",
   "metadata": {
    "id": "k8jX8tND_hE4"
   },
   "source": [
    "#### np.linspace: enter data by points\n",
    "Return evenly spaced numbers over a specified interval.\n",
    "\n",
    "Returns num evenly spaced samples, calculated over the interval `[start, stop]`.\n",
    "\n",
    "The endpoint of the interval can optionally be excluded."
   ]
  },
  {
   "cell_type": "code",
   "execution_count": 22,
   "metadata": {
    "colab": {
     "base_uri": "https://localhost:8080/"
    },
    "id": "K0JaDGQ__tZ3",
    "outputId": "ba4486c9-201f-45af-b26a-6ad0c570cc6d",
    "ExecuteTime": {
     "start_time": "2023-04-19T14:19:42.112168Z",
     "end_time": "2023-04-19T14:19:42.185366Z"
    }
   },
   "outputs": [
    {
     "data": {
      "text/plain": "array([0. , 0.2, 0.4, 0.6, 0.8, 1. ])"
     },
     "execution_count": 22,
     "metadata": {},
     "output_type": "execute_result"
    },
    {
     "name": "stdout",
     "output_type": "stream",
     "text": [
      "\n"
     ]
    },
    {
     "data": {
      "text/plain": "array([0. , 0.2, 0.4, 0.6, 0.8])"
     },
     "execution_count": 22,
     "metadata": {},
     "output_type": "execute_result"
    },
    {
     "name": "stdout",
     "output_type": "stream",
     "text": [
      "\n"
     ]
    },
    {
     "data": {
      "text/plain": "array([0.  , 0.25, 0.5 , 0.75, 1.  ])"
     },
     "execution_count": 22,
     "metadata": {},
     "output_type": "execute_result"
    }
   ],
   "source": [
    "c = np.linspace(0, 1, 6)   # start, end, num-points\n",
    "c\n",
    "\n",
    "print(\"\")\n",
    "\n",
    "d = np.linspace(0, 1, 5, endpoint=False)\n",
    "d\n",
    "\n",
    "print(\"\")\n",
    "\n",
    "e = np.linspace(0, 1, 5, endpoint=True)\n",
    "e"
   ]
  },
  {
   "cell_type": "markdown",
   "metadata": {
    "id": "Q5iV5pGDBScG"
   },
   "source": [
    "### Other common array creation functions"
   ]
  },
  {
   "cell_type": "markdown",
   "metadata": {
    "id": "De3i-v6gBezO"
   },
   "source": [
    "#### np.ones"
   ]
  },
  {
   "cell_type": "code",
   "execution_count": 23,
   "metadata": {
    "colab": {
     "base_uri": "https://localhost:8080/"
    },
    "id": "K-Vq7b2hnr2Z",
    "outputId": "c68967e4-bed9-441b-88c6-d9a7dd058706",
    "ExecuteTime": {
     "start_time": "2023-04-19T14:19:42.120731Z",
     "end_time": "2023-04-19T14:19:42.185793Z"
    }
   },
   "outputs": [
    {
     "name": "stdout",
     "output_type": "stream",
     "text": [
      "2D array filled with ones\n"
     ]
    },
    {
     "data": {
      "text/plain": "array([[1., 1., 1.],\n       [1., 1., 1.],\n       [1., 1., 1.]])"
     },
     "execution_count": 23,
     "metadata": {},
     "output_type": "execute_result"
    },
    {
     "name": "stdout",
     "output_type": "stream",
     "text": [
      "\n",
      "\n",
      "3D array filled with ones\n"
     ]
    },
    {
     "data": {
      "text/plain": "array([[[1., 1., 1.],\n        [1., 1., 1.],\n        [1., 1., 1.]],\n\n       [[1., 1., 1.],\n        [1., 1., 1.],\n        [1., 1., 1.]],\n\n       [[1., 1., 1.],\n        [1., 1., 1.],\n        [1., 1., 1.]]])"
     },
     "execution_count": 23,
     "metadata": {},
     "output_type": "execute_result"
    }
   ],
   "source": [
    "# Creates an array filled with ones, passing a tuple of the size\n",
    "print(\"2D array filled with ones\")\n",
    "a = np.ones((3, 3)) \n",
    "a\n",
    "\n",
    "print(\"\\n\\n3D array filled with ones\")\n",
    "\n",
    "b = np.ones((3, 3, 3))\n",
    "b"
   ]
  },
  {
   "cell_type": "markdown",
   "metadata": {
    "id": "TgXQ9Bd1Bph_"
   },
   "source": [
    "#### np.zeros"
   ]
  },
  {
   "cell_type": "code",
   "execution_count": 24,
   "metadata": {
    "colab": {
     "base_uri": "https://localhost:8080/"
    },
    "id": "XVxxMga46T-B",
    "outputId": "e0479bb2-4260-49f9-c8a1-3e51105b5438",
    "ExecuteTime": {
     "start_time": "2023-04-19T14:19:42.126367Z",
     "end_time": "2023-04-19T14:19:42.185954Z"
    }
   },
   "outputs": [
    {
     "data": {
      "text/plain": "array([[0., 0.],\n       [0., 0.]])"
     },
     "execution_count": 24,
     "metadata": {},
     "output_type": "execute_result"
    }
   ],
   "source": [
    "# Fill up an array with zeros\n",
    "b = np.zeros((2, 2))\n",
    "b"
   ]
  },
  {
   "cell_type": "markdown",
   "metadata": {
    "id": "XaZrdgwTBwZ5"
   },
   "source": [
    "#### np.eye"
   ]
  },
  {
   "cell_type": "code",
   "execution_count": 25,
   "metadata": {
    "colab": {
     "base_uri": "https://localhost:8080/"
    },
    "id": "oznCuhy68n4b",
    "outputId": "c839ab53-aa31-4bdd-c959-78f758c0eb33",
    "ExecuteTime": {
     "start_time": "2023-04-19T14:19:42.130802Z",
     "end_time": "2023-04-19T14:19:42.186146Z"
    }
   },
   "outputs": [
    {
     "data": {
      "text/plain": "array([[1., 0., 0., 0., 0.],\n       [0., 1., 0., 0., 0.],\n       [0., 0., 1., 0., 0.],\n       [0., 0., 0., 1., 0.],\n       [0., 0., 0., 0., 1.]])"
     },
     "execution_count": 25,
     "metadata": {},
     "output_type": "execute_result"
    }
   ],
   "source": [
    "# Returns a 2-D array with ones on the diagonal and zeros elsewhere\n",
    "c = np.eye(5)\n",
    "c"
   ]
  },
  {
   "cell_type": "markdown",
   "metadata": {
    "id": "j7kPI0FpB0MU"
   },
   "source": [
    "#### np.diag\n",
    "Extract a diagonal or construct a diagonal array."
   ]
  },
  {
   "cell_type": "code",
   "execution_count": 26,
   "metadata": {
    "colab": {
     "base_uri": "https://localhost:8080/"
    },
    "id": "bmSwAPWM8s2o",
    "outputId": "4f672ccc-82cb-4277-c9ee-49419884c444",
    "ExecuteTime": {
     "start_time": "2023-04-19T14:19:42.134499Z",
     "end_time": "2023-04-19T14:19:42.186295Z"
    }
   },
   "outputs": [
    {
     "data": {
      "text/plain": "array([[1, 0, 0, 0, 0],\n       [0, 1, 0, 0, 0],\n       [0, 0, 1, 0, 0],\n       [0, 0, 0, 1, 0],\n       [0, 0, 0, 0, 1]])"
     },
     "execution_count": 26,
     "metadata": {},
     "output_type": "execute_result"
    }
   ],
   "source": [
    "d = np.diag(np.array([1, 1, 1, 1, 1]))\n",
    "d"
   ]
  },
  {
   "cell_type": "markdown",
   "metadata": {
    "id": "KC_Ls8KqB3Ud"
   },
   "source": [
    "#### np.random"
   ]
  },
  {
   "cell_type": "code",
   "execution_count": 27,
   "metadata": {
    "colab": {
     "base_uri": "https://localhost:8080/"
    },
    "id": "S7jfAQeM8uKJ",
    "outputId": "fb3d7636-0626-471e-cbfb-771e03d0c437",
    "ExecuteTime": {
     "start_time": "2023-04-19T14:20:02.264456Z",
     "end_time": "2023-04-19T14:20:02.361097Z"
    }
   },
   "outputs": [
    {
     "data": {
      "text/plain": "array([0.33246936, 0.69881995, 0.56333726, 0.2713515 ])"
     },
     "execution_count": 27,
     "metadata": {},
     "output_type": "execute_result"
    },
    {
     "name": "stdout",
     "output_type": "stream",
     "text": [
      "\n",
      " [-1.34371385 -0.02437727 -0.14453586  2.10334651]\n"
     ]
    }
   ],
   "source": [
    "# Random set between 0-1\n",
    "a = np.random.rand(4)       \n",
    "a  \n",
    "\n",
    "# Random with Gaussian distribution\n",
    "b = np.random.randn(4)    \n",
    "print(\"\\n\", b)   "
   ]
  },
  {
   "cell_type": "markdown",
   "metadata": {
    "id": "CLL5f7Ov7QO9",
    "jp-MarkdownHeadingCollapsed": true,
    "tags": []
   },
   "source": [
    "## Understanding arrays: k3d\n",
    "\n",
    "We will install the **k3d** library, which allows to visualize arrays in 3D. Due to the fact that we cannot create interactive plots in Google Colab, we will use Jupyter Notebook in local. \n",
    "\n",
    "**WARNING** the below commands [will not work in Google Colab](https://github.com/K3D-tools/K3D-jupyter/issues/220). Might work in Binder, but better on local."
   ]
  },
  {
   "cell_type": "code",
   "execution_count": 28,
   "metadata": {
    "id": "fld2LbKO7Yds",
    "ExecuteTime": {
     "start_time": "2023-04-19T14:20:03.822414Z",
     "end_time": "2023-04-19T14:20:11.022964Z"
    }
   },
   "outputs": [
    {
     "name": "stdout",
     "output_type": "stream",
     "text": [
      "Collecting k3d\r\n",
      "  Downloading k3d-2.15.2-py3-none-any.whl (23.0 MB)\r\n",
      "\u001B[2K     \u001B[90m━━━━━━━━━━━━━━━━━━━━━━━━━━━━━━━━━━━━━━━━\u001B[0m \u001B[32m23.0/23.0 MB\u001B[0m \u001B[31m3.8 MB/s\u001B[0m eta \u001B[36m0:00:00\u001B[0m00:01\u001B[0m00:01\u001B[0mm\r\n",
      "\u001B[?25hRequirement already satisfied: ipywidgets<9.0.0,>=7.0.0 in /Users/nilsjennissen/.conda/envs/image-processing/lib/python3.10/site-packages (from k3d) (8.0.6)\r\n",
      "Collecting msgpack (from k3d)\r\n",
      "  Downloading msgpack-1.0.5-cp310-cp310-macosx_10_9_x86_64.whl (74 kB)\r\n",
      "\u001B[2K     \u001B[90m━━━━━━━━━━━━━━━━━━━━━━━━━━━━━━━━━━━━━━━\u001B[0m \u001B[32m74.7/74.7 kB\u001B[0m \u001B[31m888.4 kB/s\u001B[0m eta \u001B[36m0:00:00\u001B[0ma \u001B[36m0:00:01\u001B[0m\r\n",
      "\u001B[?25hRequirement already satisfied: numpy in /Users/nilsjennissen/.conda/envs/image-processing/lib/python3.10/site-packages (from k3d) (1.24.2)\r\n",
      "Requirement already satisfied: traitlets in /Users/nilsjennissen/.conda/envs/image-processing/lib/python3.10/site-packages (from k3d) (5.9.0)\r\n",
      "Collecting traittypes (from k3d)\r\n",
      "  Downloading traittypes-0.2.1-py2.py3-none-any.whl (8.6 kB)\r\n",
      "Requirement already satisfied: ipykernel>=4.5.1 in /Users/nilsjennissen/.conda/envs/image-processing/lib/python3.10/site-packages (from ipywidgets<9.0.0,>=7.0.0->k3d) (6.22.0)\r\n",
      "Requirement already satisfied: ipython>=6.1.0 in /Users/nilsjennissen/.conda/envs/image-processing/lib/python3.10/site-packages (from ipywidgets<9.0.0,>=7.0.0->k3d) (8.12.0)\r\n",
      "Requirement already satisfied: widgetsnbextension~=4.0.7 in /Users/nilsjennissen/.conda/envs/image-processing/lib/python3.10/site-packages (from ipywidgets<9.0.0,>=7.0.0->k3d) (4.0.7)\r\n",
      "Requirement already satisfied: jupyterlab-widgets~=3.0.7 in /Users/nilsjennissen/.conda/envs/image-processing/lib/python3.10/site-packages (from ipywidgets<9.0.0,>=7.0.0->k3d) (3.0.7)\r\n",
      "Requirement already satisfied: appnope in /Users/nilsjennissen/.conda/envs/image-processing/lib/python3.10/site-packages (from ipykernel>=4.5.1->ipywidgets<9.0.0,>=7.0.0->k3d) (0.1.3)\r\n",
      "Requirement already satisfied: comm>=0.1.1 in /Users/nilsjennissen/.conda/envs/image-processing/lib/python3.10/site-packages (from ipykernel>=4.5.1->ipywidgets<9.0.0,>=7.0.0->k3d) (0.1.3)\r\n",
      "Requirement already satisfied: debugpy>=1.6.5 in /Users/nilsjennissen/.conda/envs/image-processing/lib/python3.10/site-packages (from ipykernel>=4.5.1->ipywidgets<9.0.0,>=7.0.0->k3d) (1.6.7)\r\n",
      "Requirement already satisfied: jupyter-client>=6.1.12 in /Users/nilsjennissen/.conda/envs/image-processing/lib/python3.10/site-packages (from ipykernel>=4.5.1->ipywidgets<9.0.0,>=7.0.0->k3d) (8.2.0)\r\n",
      "Requirement already satisfied: jupyter-core!=5.0.*,>=4.12 in /Users/nilsjennissen/.conda/envs/image-processing/lib/python3.10/site-packages (from ipykernel>=4.5.1->ipywidgets<9.0.0,>=7.0.0->k3d) (5.3.0)\r\n",
      "Requirement already satisfied: matplotlib-inline>=0.1 in /Users/nilsjennissen/.conda/envs/image-processing/lib/python3.10/site-packages (from ipykernel>=4.5.1->ipywidgets<9.0.0,>=7.0.0->k3d) (0.1.6)\r\n",
      "Requirement already satisfied: nest-asyncio in /Users/nilsjennissen/.conda/envs/image-processing/lib/python3.10/site-packages (from ipykernel>=4.5.1->ipywidgets<9.0.0,>=7.0.0->k3d) (1.5.6)\r\n",
      "Requirement already satisfied: packaging in /Users/nilsjennissen/.conda/envs/image-processing/lib/python3.10/site-packages (from ipykernel>=4.5.1->ipywidgets<9.0.0,>=7.0.0->k3d) (23.1)\r\n",
      "Requirement already satisfied: psutil in /Users/nilsjennissen/.conda/envs/image-processing/lib/python3.10/site-packages (from ipykernel>=4.5.1->ipywidgets<9.0.0,>=7.0.0->k3d) (5.9.5)\r\n",
      "Requirement already satisfied: pyzmq>=20 in /Users/nilsjennissen/.conda/envs/image-processing/lib/python3.10/site-packages (from ipykernel>=4.5.1->ipywidgets<9.0.0,>=7.0.0->k3d) (25.0.2)\r\n",
      "Requirement already satisfied: tornado>=6.1 in /Users/nilsjennissen/.conda/envs/image-processing/lib/python3.10/site-packages (from ipykernel>=4.5.1->ipywidgets<9.0.0,>=7.0.0->k3d) (6.3)\r\n",
      "Requirement already satisfied: backcall in /Users/nilsjennissen/.conda/envs/image-processing/lib/python3.10/site-packages (from ipython>=6.1.0->ipywidgets<9.0.0,>=7.0.0->k3d) (0.2.0)\r\n",
      "Requirement already satisfied: decorator in /Users/nilsjennissen/.conda/envs/image-processing/lib/python3.10/site-packages (from ipython>=6.1.0->ipywidgets<9.0.0,>=7.0.0->k3d) (5.1.1)\r\n",
      "Requirement already satisfied: jedi>=0.16 in /Users/nilsjennissen/.conda/envs/image-processing/lib/python3.10/site-packages (from ipython>=6.1.0->ipywidgets<9.0.0,>=7.0.0->k3d) (0.18.2)\r\n",
      "Requirement already satisfied: pickleshare in /Users/nilsjennissen/.conda/envs/image-processing/lib/python3.10/site-packages (from ipython>=6.1.0->ipywidgets<9.0.0,>=7.0.0->k3d) (0.7.5)\r\n",
      "Requirement already satisfied: prompt-toolkit!=3.0.37,<3.1.0,>=3.0.30 in /Users/nilsjennissen/.conda/envs/image-processing/lib/python3.10/site-packages (from ipython>=6.1.0->ipywidgets<9.0.0,>=7.0.0->k3d) (3.0.38)\r\n",
      "Requirement already satisfied: pygments>=2.4.0 in /Users/nilsjennissen/.conda/envs/image-processing/lib/python3.10/site-packages (from ipython>=6.1.0->ipywidgets<9.0.0,>=7.0.0->k3d) (2.15.1)\r\n",
      "Requirement already satisfied: stack-data in /Users/nilsjennissen/.conda/envs/image-processing/lib/python3.10/site-packages (from ipython>=6.1.0->ipywidgets<9.0.0,>=7.0.0->k3d) (0.6.2)\r\n",
      "Requirement already satisfied: pexpect>4.3 in /Users/nilsjennissen/.conda/envs/image-processing/lib/python3.10/site-packages (from ipython>=6.1.0->ipywidgets<9.0.0,>=7.0.0->k3d) (4.8.0)\r\n",
      "Requirement already satisfied: parso<0.9.0,>=0.8.0 in /Users/nilsjennissen/.conda/envs/image-processing/lib/python3.10/site-packages (from jedi>=0.16->ipython>=6.1.0->ipywidgets<9.0.0,>=7.0.0->k3d) (0.8.3)\r\n",
      "Requirement already satisfied: python-dateutil>=2.8.2 in /Users/nilsjennissen/.conda/envs/image-processing/lib/python3.10/site-packages (from jupyter-client>=6.1.12->ipykernel>=4.5.1->ipywidgets<9.0.0,>=7.0.0->k3d) (2.8.2)\r\n",
      "Requirement already satisfied: platformdirs>=2.5 in /Users/nilsjennissen/.conda/envs/image-processing/lib/python3.10/site-packages (from jupyter-core!=5.0.*,>=4.12->ipykernel>=4.5.1->ipywidgets<9.0.0,>=7.0.0->k3d) (3.2.0)\r\n",
      "Requirement already satisfied: ptyprocess>=0.5 in /Users/nilsjennissen/.conda/envs/image-processing/lib/python3.10/site-packages (from pexpect>4.3->ipython>=6.1.0->ipywidgets<9.0.0,>=7.0.0->k3d) (0.7.0)\r\n",
      "Requirement already satisfied: wcwidth in /Users/nilsjennissen/.conda/envs/image-processing/lib/python3.10/site-packages (from prompt-toolkit!=3.0.37,<3.1.0,>=3.0.30->ipython>=6.1.0->ipywidgets<9.0.0,>=7.0.0->k3d) (0.2.6)\r\n",
      "Requirement already satisfied: executing>=1.2.0 in /Users/nilsjennissen/.conda/envs/image-processing/lib/python3.10/site-packages (from stack-data->ipython>=6.1.0->ipywidgets<9.0.0,>=7.0.0->k3d) (1.2.0)\r\n",
      "Requirement already satisfied: asttokens>=2.1.0 in /Users/nilsjennissen/.conda/envs/image-processing/lib/python3.10/site-packages (from stack-data->ipython>=6.1.0->ipywidgets<9.0.0,>=7.0.0->k3d) (2.2.1)\r\n",
      "Requirement already satisfied: pure-eval in /Users/nilsjennissen/.conda/envs/image-processing/lib/python3.10/site-packages (from stack-data->ipython>=6.1.0->ipywidgets<9.0.0,>=7.0.0->k3d) (0.2.2)\r\n",
      "Requirement already satisfied: six in /Users/nilsjennissen/.conda/envs/image-processing/lib/python3.10/site-packages (from asttokens>=2.1.0->stack-data->ipython>=6.1.0->ipywidgets<9.0.0,>=7.0.0->k3d) (1.16.0)\r\n",
      "Installing collected packages: msgpack, traittypes, k3d\r\n",
      "Successfully installed k3d-2.15.2 msgpack-1.0.5 traittypes-0.2.1\r\n"
     ]
    }
   ],
   "source": [
    "# Install in your environment (venv or conda)\n",
    "!pip install k3d\n",
    "#!conda install -c conda-forge k3d"
   ]
  },
  {
   "cell_type": "code",
   "execution_count": 32,
   "metadata": {
    "id": "EatK6Y1E8MJ-",
    "ExecuteTime": {
     "start_time": "2023-04-19T14:21:54.355656Z",
     "end_time": "2023-04-19T14:21:54.633767Z"
    }
   },
   "outputs": [],
   "source": [
    "%matplotlib inline\n",
    "import numpy as np\n",
    "import k3d\n",
    "\n",
    "plot = k3d.plot()\n",
    "\n",
    "b = np.ones((1, 1, 1))\n",
    "\n",
    "line = k3d.voxels(b, width=1, scaling = [1, 1, 1])\n",
    "\n",
    "# iadd method, iterates over voxel\n",
    "plot += line\n",
    "plot.display()"
   ]
  },
  {
   "cell_type": "code",
   "execution_count": 33,
   "metadata": {},
   "outputs": [],
   "source": [
    "import k3d\n",
    "\n",
    "plot = k3d.line([[0, 0, 0],\n",
    "                 [1, 1, 1]])\n",
    "\n",
    "plot.display()"
   ]
  },
  {
   "cell_type": "code",
   "execution_count": 34,
   "metadata": {
    "id": "OaSxkxs7JvqZ",
    "ExecuteTime": {
     "start_time": "2023-04-19T14:21:59.237732Z",
     "end_time": "2023-04-19T14:21:59.310360Z"
    }
   },
   "outputs": [],
   "source": [
    "%matplotlib inline\n",
    "import numpy as np\n",
    "import k3d\n",
    "\n",
    "plot = k3d.plot()\n",
    "\n",
    "b = np.array([[[18, 1, 2], [3, 4, 5]], \n",
    "              [[6, 7, 8], [9, 10, 11]], \n",
    "              [[12, 13, 14], [15, 16, 17]]])\n",
    "\n",
    "voxel = k3d.voxels(b, width=1, scaling = [1, 1, 1])\n",
    "\n",
    "# iadd method, iterates over voxel\n",
    "plot += voxel\n",
    "plot.display()"
   ]
  },
  {
   "cell_type": "markdown",
   "metadata": {
    "id": "FnySBjCGKN9d"
   },
   "source": [
    "### In class exercise: 3D representations\n",
    "\n",
    "Try to add and represent another dimension to make a 3x3x3 array using k3d"
   ]
  },
  {
   "cell_type": "code",
   "execution_count": 35,
   "metadata": {
    "id": "S0CrFZx-KsqU",
    "ExecuteTime": {
     "start_time": "2023-04-19T14:22:02.863348Z",
     "end_time": "2023-04-19T14:22:02.922524Z"
    }
   },
   "outputs": [],
   "source": [
    "%matplotlib inline\n",
    "import numpy as np\n",
    "import k3d\n",
    "\n",
    "plot = k3d.plot()\n",
    "\n",
    "b = np.array([[[18, 1, 2], [3, 4, 5], [3, 4, 5]], \n",
    "              [[6, 7, 8], [9, 10, 11], [3, 4, 5]], \n",
    "              [[12, 13, 14], [15, 16, 17], [3, 4, 5]]])\n",
    "\n",
    "voxel = k3d.voxels(b, width=1, scaling = [1, 1, 1])\n",
    "\n",
    "# iadd method, iterates over voxel\n",
    "plot += voxel\n",
    "plot.display()"
   ]
  },
  {
   "cell_type": "code",
   "execution_count": 36,
   "metadata": {
    "ExecuteTime": {
     "start_time": "2023-04-19T14:22:05.970580Z",
     "end_time": "2023-04-19T14:22:06.068248Z"
    }
   },
   "outputs": [],
   "source": [
    "b.shape"
   ]
  },
  {
   "cell_type": "markdown",
   "metadata": {
    "id": "hH9MRPGWOkjR"
   },
   "source": [
    "## NumPy data types\n",
    "\n",
    "NumPy has five main type of datatypes. But always the default data for any function (np.zeros, etc.) is floating point:\n",
    "\n",
    "* Integer\n",
    "* Float\n",
    "* Boolean\n",
    "* Complex\n",
    "* String\n"
   ]
  },
  {
   "cell_type": "code",
   "execution_count": 37,
   "metadata": {
    "colab": {
     "base_uri": "https://localhost:8080/"
    },
    "id": "m4Af9UXsxecQ",
    "outputId": "6aeb6aa0-281a-4a68-bf17-7fe8fe559fa0",
    "ExecuteTime": {
     "start_time": "2023-04-19T14:22:10.361447Z",
     "end_time": "2023-04-19T14:22:10.395167Z"
    }
   },
   "outputs": [],
   "source": [
    "# Integer\n",
    "a = np.array([1, 2, 3])\n",
    "a.dtype"
   ]
  },
  {
   "cell_type": "code",
   "execution_count": 38,
   "metadata": {
    "colab": {
     "base_uri": "https://localhost:8080/"
    },
    "id": "tXVGSpdKxeaF",
    "outputId": "9e4ae236-e3d8-4434-b4b0-43128ded921b",
    "ExecuteTime": {
     "start_time": "2023-04-19T14:22:11.088414Z",
     "end_time": "2023-04-19T14:22:11.147457Z"
    }
   },
   "outputs": [],
   "source": [
    "# Float\n",
    "b = np.array([1., 2., 3.])\n",
    "b.dtype"
   ]
  },
  {
   "cell_type": "code",
   "execution_count": 39,
   "metadata": {
    "colab": {
     "base_uri": "https://localhost:8080/"
    },
    "id": "_QT6MuKyxeW-",
    "outputId": "57e92e61-0d2c-4478-d47d-371425b210d9",
    "ExecuteTime": {
     "start_time": "2023-04-19T14:22:11.506469Z",
     "end_time": "2023-04-19T14:22:11.580289Z"
    }
   },
   "outputs": [],
   "source": [
    "# Changing data type\n",
    "c = np.array([1, 2, 3], dtype=float)\n",
    "c.dtype"
   ]
  },
  {
   "cell_type": "code",
   "execution_count": 40,
   "metadata": {
    "colab": {
     "base_uri": "https://localhost:8080/"
    },
    "id": "2ig4A8kqxyx9",
    "outputId": "ca7fe5ae-1dc9-4d47-c11d-c384e4dcd154",
    "ExecuteTime": {
     "start_time": "2023-04-19T14:22:12.117243Z",
     "end_time": "2023-04-19T14:22:12.176203Z"
    }
   },
   "outputs": [],
   "source": [
    "# Complex\n",
    "d = np.array([1+2j, 3+4j, 5+6*1j])\n",
    "d.dtype"
   ]
  },
  {
   "cell_type": "code",
   "execution_count": 41,
   "metadata": {
    "colab": {
     "base_uri": "https://localhost:8080/"
    },
    "id": "NXSN6ImxyCKo",
    "outputId": "4a24e0f4-65f2-46e4-a80d-330bc352ea0f",
    "ExecuteTime": {
     "start_time": "2023-04-19T14:22:12.939698Z",
     "end_time": "2023-04-19T14:22:13.005373Z"
    }
   },
   "outputs": [],
   "source": [
    "# Bool\n",
    "e = np.array([True, False, False, True])\n",
    "e.dtype"
   ]
  },
  {
   "cell_type": "code",
   "execution_count": 42,
   "metadata": {
    "colab": {
     "base_uri": "https://localhost:8080/"
    },
    "id": "ileivbA4yEDN",
    "outputId": "17dbf4dd-7e7f-4be5-8174-5a2d50f63913",
    "ExecuteTime": {
     "start_time": "2023-04-19T14:22:15.789416Z",
     "end_time": "2023-04-19T14:22:15.861239Z"
    }
   },
   "outputs": [],
   "source": [
    "# Strings (containing max the letters of the longest word)\n",
    "f = np.array(['Bonjoursdfsdfsdfds', 'Hello', 'Hallo'])\n",
    "f.dtype      \n"
   ]
  },
  {
   "cell_type": "markdown",
   "metadata": {
    "id": "uhJ6kdvfykOb"
   },
   "source": [
    "## Basic array visualization with Matplotlib\n",
    "\n"
   ]
  },
  {
   "cell_type": "code",
   "execution_count": 43,
   "metadata": {
    "id": "ZvE8uEHPz5PU",
    "ExecuteTime": {
     "start_time": "2023-04-19T14:22:16.604673Z",
     "end_time": "2023-04-19T14:22:16.634203Z"
    }
   },
   "outputs": [],
   "source": [
    "%matplotlib inline  "
   ]
  },
  {
   "cell_type": "code",
   "execution_count": 44,
   "metadata": {
    "id": "ClvxhBisz5MN",
    "ExecuteTime": {
     "start_time": "2023-04-19T14:22:17.499474Z",
     "end_time": "2023-04-19T14:22:17.569924Z"
    }
   },
   "outputs": [],
   "source": [
    "import matplotlib.pyplot as plt"
   ]
  },
  {
   "cell_type": "markdown",
   "metadata": {
    "id": "wYn9wtZs3wPI"
   },
   "source": [
    "### 1D array plotting"
   ]
  },
  {
   "cell_type": "code",
   "execution_count": 45,
   "metadata": {
    "colab": {
     "base_uri": "https://localhost:8080/",
     "height": 282
    },
    "id": "o6LPNZCTyt6v",
    "outputId": "9f9e0d7e-3d53-453f-fde7-748e614c3ab0",
    "ExecuteTime": {
     "start_time": "2023-04-19T14:22:18.810757Z",
     "end_time": "2023-04-19T14:22:18.913291Z"
    }
   },
   "outputs": [],
   "source": [
    "# Create a linear array from 0 to 3, with 20 steps\n",
    "x = np.linspace(0, 3, 20)\n",
    "\n",
    "# Create a linear array from 0 to 9, with 20 steps\n",
    "y = np.linspace(0, 9, 20)\n",
    "\n",
    "# Plot the line x, y\n",
    "plt.plot(x,y)       \n",
    "\n",
    "# Plot the dots x, y\n",
    "plt.plot(x,y, 'o')    "
   ]
  },
  {
   "cell_type": "code",
   "execution_count": 46,
   "metadata": {
    "ExecuteTime": {
     "start_time": "2023-04-19T14:22:19.946095Z",
     "end_time": "2023-04-19T14:22:20.004508Z"
    }
   },
   "outputs": [],
   "source": [
    "x"
   ]
  },
  {
   "cell_type": "code",
   "execution_count": 47,
   "metadata": {
    "ExecuteTime": {
     "start_time": "2023-04-19T14:22:20.748832Z",
     "end_time": "2023-04-19T14:22:20.819787Z"
    }
   },
   "outputs": [],
   "source": [
    "y"
   ]
  },
  {
   "cell_type": "markdown",
   "metadata": {
    "id": "rBO0S7-Y4SyL"
   },
   "source": [
    "### 2D array plotting\n",
    "Due to their structure, 2D arrays needs to be plotted as images. There is no need to panic. Let's go step by step."
   ]
  },
  {
   "cell_type": "code",
   "execution_count": 48,
   "metadata": {
    "ExecuteTime": {
     "start_time": "2023-04-19T14:22:22.956330Z",
     "end_time": "2023-04-19T14:22:22.981265Z"
    }
   },
   "outputs": [],
   "source": [
    "# Let's create a Gaussian image of 30x30\n",
    "image = np.random.randn(30, 30)"
   ]
  },
  {
   "cell_type": "code",
   "execution_count": 49,
   "metadata": {
    "collapsed": true,
    "jupyter": {
     "outputs_hidden": true
    },
    "tags": [],
    "ExecuteTime": {
     "start_time": "2023-04-19T14:22:24.825326Z",
     "end_time": "2023-04-19T14:22:24.883627Z"
    }
   },
   "outputs": [],
   "source": [
    "image"
   ]
  },
  {
   "cell_type": "code",
   "execution_count": 51,
   "metadata": {
    "colab": {
     "base_uri": "https://localhost:8080/",
     "height": 283
    },
    "id": "56tKC5vG4cxa",
    "outputId": "9539d94a-9cd6-48ab-869b-842c02b8aaa4",
    "ExecuteTime": {
     "start_time": "2023-04-19T14:22:30.336153Z",
     "end_time": "2023-04-19T14:22:30.526285Z"
    }
   },
   "outputs": [],
   "source": [
    "# Let's create a Gaussian image of 30x30\n",
    "image = np.random.randn(30, 30)\n",
    "\n",
    "# Let's plot the image with imshow, and select a colormap\n",
    "plt.imshow(image, cmap=plt.cm.gray)    \n",
    "\n",
    "# Let's add a colorbar as an index\n",
    "plt.colorbar()"
   ]
  },
  {
   "cell_type": "markdown",
   "metadata": {
    "id": "cG2JtGYy7IbF"
   },
   "source": [
    "#### Where can I find more color maps?\n",
    "\n",
    "You can find a complete source of colormaps [here](https://matplotlib.org/3.1.1/gallery/color/colormap_reference.html)"
   ]
  },
  {
   "cell_type": "markdown",
   "metadata": {
    "id": "znj0f0e570Nh"
   },
   "source": [
    "### In class exercise: change the colormap\n",
    "\n",
    "Change the colormap in the image to be visualized with one of the available matplotlib colormaps."
   ]
  },
  {
   "cell_type": "code",
   "execution_count": 52,
   "metadata": {
    "id": "UXpCQZf0yuLA",
    "ExecuteTime": {
     "start_time": "2023-04-19T14:22:54.414300Z",
     "end_time": "2023-04-19T14:22:54.560937Z"
    }
   },
   "outputs": [],
   "source": [
    "# Let's create a Gaussian image of 30x30\n",
    "image = np.random.randn(30, 30)\n",
    "\n",
    "# Let's plot the image with imshow, and select a colormap\n",
    "plt.imshow(image, cmap=plt.cm.viridis)    \n",
    "\n",
    "# Let's add a colorbar as an index\n",
    "plt.colorbar() "
   ]
  },
  {
   "cell_type": "markdown",
   "metadata": {
    "id": "UJmYaAuy_m0S"
   },
   "source": [
    "## NumPy indexing\n",
    "\n",
    "Another recap from the previous sessions. Remember that indices always in NumPy begin at O.\n",
    "\n",
    "![alt text](https://scipy-lectures.org/_images/numpy_indexing.png)"
   ]
  },
  {
   "cell_type": "markdown",
   "metadata": {
    "id": "vn1Xi7DoGjAi"
   },
   "source": [
    "### Access items of array"
   ]
  },
  {
   "cell_type": "code",
   "execution_count": 231,
   "metadata": {
    "colab": {
     "base_uri": "https://localhost:8080/",
     "height": 35
    },
    "id": "bkkIIHO3yuH2",
    "outputId": "9b6da06d-d49f-474f-97f8-70fe501c26fd"
   },
   "outputs": [
    {
     "data": {
      "text/plain": [
       "array([ 0,  1,  2,  3,  4,  5,  6,  7,  8,  9, 10])"
      ]
     },
     "execution_count": 231,
     "metadata": {},
     "output_type": "execute_result"
    }
   ],
   "source": [
    "a = np.arange(11)\n",
    "a"
   ]
  },
  {
   "cell_type": "code",
   "execution_count": 232,
   "metadata": {
    "colab": {
     "base_uri": "https://localhost:8080/",
     "height": 35
    },
    "id": "7CXd2PoHyuEs",
    "outputId": "30c47a8c-8562-4f5f-cd94-043cbf0a570b"
   },
   "outputs": [
    {
     "data": {
      "text/plain": [
       "(0, 2, 10)"
      ]
     },
     "execution_count": 232,
     "metadata": {},
     "output_type": "execute_result"
    }
   ],
   "source": [
    "a[0], a[2], a[-1]"
   ]
  },
  {
   "cell_type": "markdown",
   "metadata": {
    "id": "TLVdiyLKG4vk"
   },
   "source": [
    "### Reverse a sequence"
   ]
  },
  {
   "cell_type": "code",
   "execution_count": 41,
   "metadata": {
    "colab": {
     "base_uri": "https://localhost:8080/",
     "height": 35
    },
    "id": "Atje-VRPyuCd",
    "outputId": "ad1ecd24-8ee4-4617-a3da-fae2271e7bc0"
   },
   "outputs": [
    {
     "data": {
      "text/plain": [
       "array([10,  9,  8,  7,  6,  5,  4,  3,  2,  1,  0])"
      ]
     },
     "execution_count": 41,
     "metadata": {},
     "output_type": "execute_result"
    }
   ],
   "source": [
    "a[::-1]"
   ]
  },
  {
   "cell_type": "markdown",
   "metadata": {
    "id": "hQ02eFb0HC5I"
   },
   "source": [
    "### Multidimensional arrays\n",
    "\n",
    "Indexes in multidimensional arrays are tupes of integers.\n",
    "\n",
    "In 2D, the first dimension corresponds to rows, the second to columns.\n",
    "F\n",
    "or multidimensional `a` or `a[0]` is interpreted by taking all elements in the unspecified dimensions."
   ]
  },
  {
   "cell_type": "markdown",
   "metadata": {
    "id": "0t6GSGcRJF3z"
   },
   "source": [
    "#### Indexing"
   ]
  },
  {
   "cell_type": "code",
   "execution_count": 233,
   "metadata": {
    "colab": {
     "base_uri": "https://localhost:8080/",
     "height": 72
    },
    "id": "fno7qXUNyuA1",
    "outputId": "2a3d307b-e6c5-4fdc-d9c3-aaa091088d64"
   },
   "outputs": [
    {
     "data": {
      "text/plain": [
       "array([[0, 0, 0],\n",
       "       [0, 1, 0],\n",
       "       [0, 0, 2]])"
      ]
     },
     "execution_count": 233,
     "metadata": {},
     "output_type": "execute_result"
    }
   ],
   "source": [
    "a = np.diag(np.arange(3))\n",
    "a"
   ]
  },
  {
   "cell_type": "code",
   "execution_count": 234,
   "metadata": {
    "colab": {
     "base_uri": "https://localhost:8080/",
     "height": 35
    },
    "id": "3sNpHgqsH9rj",
    "outputId": "e85ff05a-c5a4-41b6-c7c2-7d179d896e3c"
   },
   "outputs": [
    {
     "data": {
      "text/plain": [
       "0"
      ]
     },
     "execution_count": 234,
     "metadata": {},
     "output_type": "execute_result"
    }
   ],
   "source": [
    "# Second line, second column\n",
    "a[2, 1]"
   ]
  },
  {
   "cell_type": "code",
   "execution_count": 44,
   "metadata": {
    "colab": {
     "base_uri": "https://localhost:8080/",
     "height": 72
    },
    "id": "zHDywLQ6IGD7",
    "outputId": "cf3467a5-9a64-45b2-b4b2-1ab274d7b9e8"
   },
   "outputs": [
    {
     "data": {
      "text/plain": [
       "array([[ 0,  0,  0],\n",
       "       [ 0,  1,  0],\n",
       "       [ 0, 99,  2]])"
      ]
     },
     "execution_count": 44,
     "metadata": {},
     "output_type": "execute_result"
    }
   ],
   "source": [
    "# Change for number 99 in Third line, Second column\n",
    "a[2, 1] = 99 \n",
    "a"
   ]
  },
  {
   "cell_type": "code",
   "execution_count": 45,
   "metadata": {
    "colab": {
     "base_uri": "https://localhost:8080/",
     "height": 35
    },
    "id": "UF43IBNFIU8t",
    "outputId": "fe48048d-cecb-4ff6-d7ee-2685561f634a"
   },
   "outputs": [
    {
     "data": {
      "text/plain": [
       "array([0, 1, 0])"
      ]
     },
     "execution_count": 45,
     "metadata": {},
     "output_type": "execute_result"
    }
   ],
   "source": [
    "# Retrieve second line\n",
    "a[1]"
   ]
  },
  {
   "cell_type": "markdown",
   "metadata": {
    "id": "mK0iebYJJIgB"
   },
   "source": [
    "#### Slicing\n",
    "By default, the three slice components are not required: by default, start is 0, end is the last and step is 1"
   ]
  },
  {
   "cell_type": "code",
   "execution_count": 46,
   "metadata": {
    "colab": {
     "base_uri": "https://localhost:8080/",
     "height": 35
    },
    "id": "yFlbsrfpJBMY",
    "outputId": "e5eb81a8-8a01-4d4a-be4d-6678d036d262"
   },
   "outputs": [
    {
     "data": {
      "text/plain": [
       "array([ 0,  1,  2,  3,  4,  5,  6,  7,  8,  9, 10])"
      ]
     },
     "execution_count": 46,
     "metadata": {},
     "output_type": "execute_result"
    }
   ],
   "source": [
    "a = np.arange(11)\n",
    "a"
   ]
  },
  {
   "cell_type": "code",
   "execution_count": 47,
   "metadata": {
    "colab": {
     "base_uri": "https://localhost:8080/",
     "height": 35
    },
    "id": "J5nHuJBvJXgk",
    "outputId": "84227555-eaf3-4d0d-87a9-3dcf2945385b"
   },
   "outputs": [
    {
     "data": {
      "text/plain": [
       "array([ 0,  2,  4,  6,  8, 10])"
      ]
     },
     "execution_count": 47,
     "metadata": {},
     "output_type": "execute_result"
    }
   ],
   "source": [
    "# [start:end:step]\n",
    "a[0:11:2] "
   ]
  },
  {
   "cell_type": "code",
   "execution_count": 48,
   "metadata": {
    "colab": {
     "base_uri": "https://localhost:8080/",
     "height": 35
    },
    "id": "bk3T4W3aJiV7",
    "outputId": "0a245362-933c-456f-a5ec-46d9cc26e5ba"
   },
   "outputs": [
    {
     "data": {
      "text/plain": [
       "array([0, 1, 2, 3, 4, 5, 6, 7, 8, 9])"
      ]
     },
     "execution_count": 48,
     "metadata": {},
     "output_type": "execute_result"
    }
   ],
   "source": [
    "# The last index is never included!!!!!\n",
    "a[:10]"
   ]
  },
  {
   "cell_type": "code",
   "execution_count": 49,
   "metadata": {
    "colab": {
     "base_uri": "https://localhost:8080/",
     "height": 108
    },
    "id": "7q4OX6QYJxBM",
    "outputId": "d69ec486-bc0b-498a-8fe5-825413e9d020"
   },
   "outputs": [
    {
     "data": {
      "text/plain": [
       "array([1, 2])"
      ]
     },
     "execution_count": 49,
     "metadata": {},
     "output_type": "execute_result"
    },
    {
     "name": "stdout",
     "output_type": "stream",
     "text": [
      "\n",
      "\n"
     ]
    },
    {
     "data": {
      "text/plain": [
       "array([ 0,  2,  4,  6,  8, 10])"
      ]
     },
     "execution_count": 49,
     "metadata": {},
     "output_type": "execute_result"
    },
    {
     "name": "stdout",
     "output_type": "stream",
     "text": [
      "\n",
      "\n"
     ]
    },
    {
     "data": {
      "text/plain": [
       "array([ 3,  4,  5,  6,  7,  8,  9, 10])"
      ]
     },
     "execution_count": 49,
     "metadata": {},
     "output_type": "execute_result"
    }
   ],
   "source": [
    "# By default, start is 0, end is the last and step is 1.\n",
    "a[1:3]\n",
    "print(\"\\n\")\n",
    "a[::2]\n",
    "print(\"\\n\")\n",
    "a[3:]"
   ]
  },
  {
   "cell_type": "code",
   "execution_count": 50,
   "metadata": {
    "colab": {
     "base_uri": "https://localhost:8080/",
     "height": 72
    },
    "id": "85oFjNNeLddf",
    "outputId": "50f7f13e-7dca-45b1-9106-4f8f91657040"
   },
   "outputs": [
    {
     "data": {
      "text/plain": [
       "array([ 0, -4, -4, -4,  4,  5,  6,  7,  8,  9, 10])"
      ]
     },
     "execution_count": 50,
     "metadata": {},
     "output_type": "execute_result"
    },
    {
     "name": "stdout",
     "output_type": "stream",
     "text": [
      "\n",
      "\n"
     ]
    },
    {
     "data": {
      "text/plain": [
       "array([99, -4, -4, -4, 99,  5,  6,  7, 99,  9, 10])"
      ]
     },
     "execution_count": 50,
     "metadata": {},
     "output_type": "execute_result"
    }
   ],
   "source": [
    "# Combination of assignment and slicing\n",
    "a[1:4] = -4\n",
    "a\n",
    "print(\"\\n\")\n",
    "a[::4] = 99\n",
    "a"
   ]
  },
  {
   "cell_type": "markdown",
   "metadata": {
    "id": "ftZ5TSvFMNbA"
   },
   "source": [
    "## Copies vs. views\n",
    "\n",
    "A slicing operation creates a view on the original array, which is just a way of accessing array data. Thus the original array is not copied in memory. You can use \n",
    "\n",
    "`np.may_share_memory()` to check if two arrays share the same memory block. Note however, that this uses heuristics and may give you false positives."
   ]
  },
  {
   "cell_type": "code",
   "execution_count": 51,
   "metadata": {
    "colab": {
     "base_uri": "https://localhost:8080/",
     "height": 35
    },
    "id": "8GzHgbAGOwpq",
    "outputId": "51cb159e-2f9f-4db4-f3b9-9a2f50876082"
   },
   "outputs": [
    {
     "data": {
      "text/plain": [
       "array([0, 1, 2, 3, 4, 5, 6, 7, 8, 9])"
      ]
     },
     "execution_count": 51,
     "metadata": {},
     "output_type": "execute_result"
    }
   ],
   "source": [
    "a = np.arange(10)\n",
    "a"
   ]
  },
  {
   "cell_type": "code",
   "execution_count": 52,
   "metadata": {
    "colab": {
     "base_uri": "https://localhost:8080/",
     "height": 35
    },
    "id": "5G4etoGlO3ri",
    "outputId": "e2f2091f-3bdb-4686-b982-89c4be425797"
   },
   "outputs": [
    {
     "data": {
      "text/plain": [
       "array([0, 2, 4, 6, 8])"
      ]
     },
     "execution_count": 52,
     "metadata": {},
     "output_type": "execute_result"
    }
   ],
   "source": [
    "b = a[::2]\n",
    "b"
   ]
  },
  {
   "cell_type": "code",
   "execution_count": 53,
   "metadata": {
    "colab": {
     "base_uri": "https://localhost:8080/",
     "height": 35
    },
    "id": "thqBGoNNO7QM",
    "outputId": "dd19b579-13f2-4933-a489-74e459bece7d"
   },
   "outputs": [
    {
     "data": {
      "text/plain": [
       "True"
      ]
     },
     "execution_count": 53,
     "metadata": {},
     "output_type": "execute_result"
    }
   ],
   "source": [
    "np.may_share_memory(a, b)"
   ]
  },
  {
   "cell_type": "code",
   "execution_count": 54,
   "metadata": {
    "colab": {
     "base_uri": "https://localhost:8080/",
     "height": 35
    },
    "id": "lcd0otSTPAPA",
    "outputId": "60b47877-ef21-4190-a569-3754ce2da6eb"
   },
   "outputs": [
    {
     "data": {
      "text/plain": [
       "array([12,  2,  4,  6,  8])"
      ]
     },
     "execution_count": 54,
     "metadata": {},
     "output_type": "execute_result"
    }
   ],
   "source": [
    "# When we change an index in the view\n",
    "b[0] = 12\n",
    "b"
   ]
  },
  {
   "cell_type": "code",
   "execution_count": 55,
   "metadata": {
    "colab": {
     "base_uri": "https://localhost:8080/",
     "height": 35
    },
    "id": "X0nrJBJePGKB",
    "outputId": "da6e368b-d5a6-4825-da62-25f74b30b3ec"
   },
   "outputs": [
    {
     "data": {
      "text/plain": [
       "array([12,  1,  2,  3,  4,  5,  6,  7,  8,  9])"
      ]
     },
     "execution_count": 55,
     "metadata": {},
     "output_type": "execute_result"
    }
   ],
   "source": [
    "# The original is modified as well\n",
    "a"
   ]
  },
  {
   "cell_type": "code",
   "execution_count": 56,
   "metadata": {
    "colab": {
     "base_uri": "https://localhost:8080/",
     "height": 35
    },
    "id": "1Mlj0HoGPMu_",
    "outputId": "38963681-e7e3-4beb-8562-c795da237f08"
   },
   "outputs": [
    {
     "data": {
      "text/plain": [
       "array([12,  1,  2,  3,  4,  5,  6,  7,  8,  9])"
      ]
     },
     "execution_count": 56,
     "metadata": {},
     "output_type": "execute_result"
    }
   ],
   "source": [
    "# We need to create a copy() to put changes that are not reflected in the original\n",
    "d = a.copy()\n",
    "d"
   ]
  },
  {
   "cell_type": "code",
   "execution_count": 57,
   "metadata": {
    "colab": {
     "base_uri": "https://localhost:8080/",
     "height": 35
    },
    "id": "pCNnkSjZPYAN",
    "outputId": "2a030a3f-7ec4-414a-f912-b6b89723fc42"
   },
   "outputs": [
    {
     "data": {
      "text/plain": [
       "array([0, 1, 2, 3, 4, 5, 6, 7, 8, 9])"
      ]
     },
     "execution_count": 57,
     "metadata": {},
     "output_type": "execute_result"
    }
   ],
   "source": [
    "d[0] = 0\n",
    "d"
   ]
  },
  {
   "cell_type": "code",
   "execution_count": 58,
   "metadata": {},
   "outputs": [
    {
     "data": {
      "text/plain": [
       "array([12,  1,  2,  3,  4,  5,  6,  7,  8,  9])"
      ]
     },
     "execution_count": 58,
     "metadata": {},
     "output_type": "execute_result"
    }
   ],
   "source": [
    "a"
   ]
  },
  {
   "cell_type": "code",
   "execution_count": 59,
   "metadata": {
    "colab": {
     "base_uri": "https://localhost:8080/",
     "height": 35
    },
    "id": "lF8RvgnbPbGY",
    "outputId": "f54fd43f-7867-4d94-a888-a9f50f52f661"
   },
   "outputs": [
    {
     "data": {
      "text/plain": [
       "False"
      ]
     },
     "execution_count": 59,
     "metadata": {},
     "output_type": "execute_result"
    }
   ],
   "source": [
    "# The copy is in a different memory allocation\n",
    "np.may_share_memory(a, d)"
   ]
  },
  {
   "cell_type": "markdown",
   "metadata": {
    "id": "Y9-A4vihPnYa"
   },
   "source": [
    "## Fancy or Advanced array indexing\n",
    "NumPy arrays can be indexed with slices, but as well with boolean or integer arrays (masks). This method creates copies rather than views."
   ]
  },
  {
   "cell_type": "markdown",
   "metadata": {
    "id": "lZnesr5oP33v"
   },
   "source": [
    "### Mask with boolean array"
   ]
  },
  {
   "cell_type": "code",
   "execution_count": 235,
   "metadata": {
    "colab": {
     "base_uri": "https://localhost:8080/",
     "height": 35
    },
    "id": "4Gropd5mQdeN",
    "outputId": "dec6c208-aae9-4fa3-a1f3-7d9a5322db17"
   },
   "outputs": [
    {
     "data": {
      "text/plain": [
       "array([10,  3,  8,  0, 19, 10, 11,  9, 10,  6,  0, 20, 12,  7, 14])"
      ]
     },
     "execution_count": 235,
     "metadata": {},
     "output_type": "execute_result"
    }
   ],
   "source": [
    "# We start with getting a seed and a random integer array\n",
    "np.random.seed(3)\n",
    "a = np.random.randint(0, 21, 15)\n",
    "a"
   ]
  },
  {
   "cell_type": "code",
   "execution_count": 236,
   "metadata": {
    "colab": {
     "base_uri": "https://localhost:8080/",
     "height": 54
    },
    "id": "iif5rTnlRJq_",
    "outputId": "9acc60d8-f4d9-4d4f-cdc5-faf98d432cf6"
   },
   "outputs": [
    {
     "data": {
      "text/plain": [
       "array([False,  True, False,  True, False, False, False,  True, False,\n",
       "        True,  True, False,  True, False, False])"
      ]
     },
     "execution_count": 236,
     "metadata": {},
     "output_type": "execute_result"
    }
   ],
   "source": [
    "# Create a Boolean array when the residuals of a/3 are 0\n",
    "a % 3 == 0"
   ]
  },
  {
   "cell_type": "code",
   "execution_count": 237,
   "metadata": {
    "colab": {
     "base_uri": "https://localhost:8080/",
     "height": 35
    },
    "id": "FPqTfbBsRX0T",
    "outputId": "a9051c8b-f644-4bfd-a4d7-6b03a2e675bb"
   },
   "outputs": [
    {
     "data": {
      "text/plain": [
       "array([ 3,  0,  9,  6,  0, 12])"
      ]
     },
     "execution_count": 237,
     "metadata": {},
     "output_type": "execute_result"
    }
   ],
   "source": [
    "# Create a Boolean mask when the residuals of a/3 are 0\n",
    "mask = (a % 3 == 0)\n",
    "\n",
    "# Extract a sub-array with the mask\n",
    "extract_from_a = a[mask] # or,  a[a%3==0]\n",
    "extract_from_a           "
   ]
  },
  {
   "cell_type": "markdown",
   "metadata": {
    "id": "N69Cv2l7QT4q"
   },
   "source": [
    "### Mask with integer array"
   ]
  },
  {
   "cell_type": "code",
   "execution_count": 64,
   "metadata": {
    "colab": {
     "base_uri": "https://localhost:8080/",
     "height": 35
    },
    "id": "2zIBMf87R3B_",
    "outputId": "490d0c22-1d96-4f06-d547-a47d5f4d2b5e"
   },
   "outputs": [
    {
     "data": {
      "text/plain": [
       "array([ 0, 10, 20, 30, 40, 50, 60, 70, 80, 90])"
      ]
     },
     "execution_count": 64,
     "metadata": {},
     "output_type": "execute_result"
    }
   ],
   "source": [
    "a = np.arange(0, 100, 10)\n",
    "a"
   ]
  },
  {
   "cell_type": "code",
   "execution_count": 65,
   "metadata": {
    "colab": {
     "base_uri": "https://localhost:8080/",
     "height": 35
    },
    "id": "EvyXBT0-R6_z",
    "outputId": "06328cad-ebea-441c-b21a-1c61592c5555"
   },
   "outputs": [
    {
     "data": {
      "text/plain": [
       "array([20, 30, 20, 40, 20])"
      ]
     },
     "execution_count": 65,
     "metadata": {},
     "output_type": "execute_result"
    }
   ],
   "source": [
    "# Indexing by position\n",
    "# [2, 3, 2, 4, 2] is a Python list\n",
    "b = a[[2, 3, 2, 4, 2]]\n",
    "b"
   ]
  },
  {
   "cell_type": "code",
   "execution_count": null,
   "metadata": {
    "colab": {
     "base_uri": "https://localhost:8080/",
     "height": 35
    },
    "id": "UhEilXvsShhD",
    "outputId": "3bd8a878-2de5-44ac-d149-a08637f280ef"
   },
   "outputs": [],
   "source": []
  },
  {
   "cell_type": "markdown",
   "metadata": {
    "id": "5JSAWHgTSrgx"
   },
   "source": [
    "Some more fancy indexing:\n",
    "\n",
    "![alt text](https://scipy-lectures.org/_images/numpy_fancy_indexing.png)"
   ]
  },
  {
   "cell_type": "code",
   "execution_count": null,
   "metadata": {},
   "outputs": [],
   "source": [
    "0\n",
    "1\n",
    "2\n",
    "3"
   ]
  },
  {
   "cell_type": "code",
   "execution_count": 242,
   "metadata": {},
   "outputs": [],
   "source": [
    "# Let's create a Gaussian image of 30x30\n",
    "image = np.random.randn(10, 15)"
   ]
  },
  {
   "cell_type": "code",
   "execution_count": 255,
   "metadata": {},
   "outputs": [
    {
     "data": {
      "text/plain": [
       "array([[-5.16647925e-01, -1.89071666e-01, -4.16198015e-01,\n",
       "         7.24657658e-01, -6.89960677e-01,  4.86414475e-01,\n",
       "         8.51518950e-01,  4.86249326e-01, -8.34239851e-01,\n",
       "         1.34499246e+00, -6.78212679e-01,  4.26435074e-01,\n",
       "        -7.53334794e-01, -1.74411025e+00,  2.25750266e-01],\n",
       "       [ 2.87035165e-01, -7.74409606e-02,  2.76068497e-01,\n",
       "        -6.48410888e-01, -7.37464837e-01, -1.68090099e-01,\n",
       "         1.90927681e+00,  8.14814541e-01, -5.19991754e-01,\n",
       "         5.58713205e-01, -4.78364660e-01, -4.57260787e-01,\n",
       "         8.59284008e-01, -5.25264645e-01, -1.67563463e+00],\n",
       "       [-9.06494701e-01,  8.84152062e-02,  1.28007821e-01,\n",
       "         1.24161652e+00, -7.16025798e-01,  7.31465736e-01,\n",
       "         4.25966750e-01, -1.49013772e-01,  8.35843902e-01,\n",
       "         4.92118903e-01, -8.62308487e-01,  1.07168393e+00,\n",
       "        -1.22090192e+00,  5.96154331e-02,  2.44416199e-03],\n",
       "       [ 4.24635721e-01, -7.25433480e-01, -3.49433856e-02,\n",
       "        -1.40620027e-01,  9.97088367e-01, -7.95914693e-01,\n",
       "         7.27455292e-02, -2.61240485e-01, -1.29804664e+00,\n",
       "         2.67611247e+00, -7.12190272e-02, -1.48665807e+00,\n",
       "         1.40862696e+00, -1.07058550e+00,  3.70869972e-01],\n",
       "       [ 8.62832095e-01, -6.48432023e-01, -4.30890055e-01,\n",
       "        -5.40270264e-01, -1.29361010e-01, -1.62246117e+00,\n",
       "        -1.23563662e+00, -1.40786442e-01,  1.03895212e+00,\n",
       "         6.31744177e-01,  1.72941743e+00,  6.94052272e-01,\n",
       "        -5.11128993e-01, -1.22843406e-01, -2.03039355e+00],\n",
       "       [-9.60775110e-01, -1.02035928e+00,  2.70593425e-01,\n",
       "         6.47829797e-01, -5.60373419e-01, -5.88501620e-01,\n",
       "        -1.54655582e+00, -1.27762058e-01,  2.48168027e-01,\n",
       "         4.45780959e-01, -7.82709043e-01,  1.98848968e+00,\n",
       "         1.19505834e+00, -9.52375987e-02, -5.27187779e-01],\n",
       "       [-3.21584693e-01,  1.51130372e-01, -1.86277156e-02,\n",
       "         4.83528787e-01,  7.68965158e-01,  1.36624284e+00,\n",
       "         1.14726479e+00, -1.10229155e-01,  3.88250414e-01,\n",
       "        -3.87127181e-01, -5.87220312e-01,  1.91082685e+00,\n",
       "        -4.59846150e-01,  1.99073781e+00, -3.49035393e-01],\n",
       "       [ 2.52825091e-01,  1.08940955e+00,  2.39220218e-02,\n",
       "         3.93125281e-01, -2.41384800e-01, -4.75524858e-01,\n",
       "        -1.65777023e-01, -6.49717421e-01,  1.63138295e+00,\n",
       "        -1.67698603e-01,  1.72266920e+00, -2.68510868e+00,\n",
       "         1.84207947e-02,  5.61951672e-01, -2.93821238e-01],\n",
       "       [ 1.09465308e+00,  6.39692355e-01, -2.74600120e-01,\n",
       "         4.35009258e-01,  2.81187838e+00,  2.51995127e-01,\n",
       "         2.99502331e-01, -4.39991311e-01,  1.33497041e-01,\n",
       "        -1.28926119e+00, -1.98290257e-01,  2.45758763e+00,\n",
       "         1.06721555e+00,  6.41420656e-01,  1.10392166e+00],\n",
       "       [ 1.88175499e+00,  5.93588115e-01,  2.07087853e+00,\n",
       "         1.06979836e+00,  1.66519510e-01,  1.71947656e+00,\n",
       "        -2.35921474e+00, -5.71348962e-01,  2.65787047e-01,\n",
       "        -9.12090913e-01, -1.56058403e-01, -6.38790896e-01,\n",
       "        -6.54415212e-01,  2.71192633e+00,  6.27473889e-01]])"
      ]
     },
     "execution_count": 255,
     "metadata": {},
     "output_type": "execute_result"
    }
   ],
   "source": [
    "image"
   ]
  },
  {
   "cell_type": "code",
   "execution_count": 256,
   "metadata": {},
   "outputs": [],
   "source": [
    "def print_elems(arr):\n",
    "    nrows = arr.shape[0]\n",
    "    ncols = arr.shape[1]\n",
    "    for i in range(nrows):\n",
    "        for j in range(ncols):\n",
    "            print(arr[i,j])"
   ]
  },
  {
   "cell_type": "code",
   "execution_count": 254,
   "metadata": {},
   "outputs": [
    {
     "data": {
      "text/plain": [
       "-0.5166479247981497"
      ]
     },
     "execution_count": 254,
     "metadata": {},
     "output_type": "execute_result"
    }
   ],
   "source": [
    "image[0][0]"
   ]
  },
  {
   "cell_type": "code",
   "execution_count": 257,
   "metadata": {},
   "outputs": [
    {
     "name": "stdout",
     "output_type": "stream",
     "text": [
      "-0.5166479247981497\n",
      "-0.1890716664357128\n",
      "-0.416198015130148\n",
      "0.7246576582394498\n",
      "-0.6899606773138658\n",
      "0.48641447526861514\n",
      "0.8515189504847083\n",
      "0.48624932610831123\n",
      "-0.8342398506717849\n",
      "1.344992456622238\n",
      "-0.6782126793411518\n",
      "0.4264350744400753\n",
      "-0.7533347935974722\n",
      "-1.744110250641094\n",
      "0.2257502662458201\n",
      "0.28703516469482443\n",
      "-0.07744096055993933\n",
      "0.27606849724284316\n",
      "-0.6484108883064816\n",
      "-0.7374648374587585\n",
      "-0.16809009862191446\n",
      "1.909276809266566\n",
      "0.8148145412513252\n",
      "-0.5199917540975635\n",
      "0.5587132048474234\n",
      "-0.4783646604432103\n",
      "-0.45726078713830676\n",
      "0.8592840082646755\n",
      "-0.5252646451556335\n",
      "-1.6756346341845954\n",
      "-0.9064947005743282\n",
      "0.08841520620200595\n",
      "0.12800782111610085\n",
      "1.2416165181585397\n",
      "-0.7160257975174191\n",
      "0.7314657358201054\n",
      "0.42596674984978417\n",
      "-0.14901377221550174\n",
      "0.8358439021819729\n",
      "0.4921189029137968\n",
      "-0.8623084869368738\n",
      "1.071683929782794\n",
      "-1.2209019198961333\n",
      "0.059615433090329545\n",
      "0.0024441619892351415\n",
      "0.4246357208598569\n",
      "-0.7254334803985123\n",
      "-0.0349433855520906\n",
      "-0.14062002701591825\n",
      "0.9970883670936515\n",
      "-0.7959146932233903\n",
      "0.07274552915143462\n",
      "-0.26124048467201855\n",
      "-1.2980466376694824\n",
      "2.676112467653689\n",
      "-0.07121902716056103\n",
      "-1.4866580709207609\n",
      "1.40862695884896\n",
      "-1.0705854991525032\n",
      "0.37086997203026\n",
      "0.8628320949627665\n",
      "-0.6484320227760582\n",
      "-0.43089005538560166\n",
      "-0.540270263790554\n",
      "-0.12936100975105408\n",
      "-1.6224611704696181\n",
      "-1.2356366241061225\n",
      "-0.1407864421846237\n",
      "1.0389521173544556\n",
      "0.631744177429087\n",
      "1.729417429210297\n",
      "0.6940522720694241\n",
      "-0.511128992552914\n",
      "-0.12284340561303929\n",
      "-2.030393553778298\n",
      "-0.9607751102139338\n",
      "-1.0203592788039855\n",
      "0.2705934249706648\n",
      "0.6478297974098579\n",
      "-0.5603734188841619\n",
      "-0.5885016196794289\n",
      "-1.5465558228110778\n",
      "-0.12776205788585943\n",
      "0.2481680271468232\n",
      "0.4457809586531427\n",
      "-0.782709043447464\n",
      "1.9884896798105511\n",
      "1.1950583359712759\n",
      "-0.09523759870062422\n",
      "-0.52718777933396\n",
      "-0.32158469309218346\n",
      "0.15113037165299167\n",
      "-0.018627715556959044\n",
      "0.48352878740830696\n",
      "0.7689651576916865\n",
      "1.3662428435589185\n",
      "1.147264793112611\n",
      "-0.1102291554019236\n",
      "0.3882504142848946\n",
      "-0.3871271811779628\n",
      "-0.587220312328312\n",
      "1.9108268513563658\n",
      "-0.459846150218099\n",
      "1.9907378123222452\n",
      "-0.34903539298253017\n",
      "0.2528250912215497\n",
      "1.089409548186299\n",
      "0.02392202180891483\n",
      "0.3931252812580667\n",
      "-0.24138479980935626\n",
      "-0.47552485781324766\n",
      "-0.16577702313143794\n",
      "-0.6497174207470244\n",
      "1.6313829539585936\n",
      "-0.16769860276646403\n",
      "1.7226691978466993\n",
      "-2.6851086777996254\n",
      "0.018420794714651353\n",
      "0.561951672422086\n",
      "-0.29382123783761\n",
      "1.094653079198753\n",
      "0.6396923552031146\n",
      "-0.2746001203219027\n",
      "0.4350092581717443\n",
      "2.8118783750058736\n",
      "0.25199512668322666\n",
      "0.2995023312069633\n",
      "-0.43999131122796514\n",
      "0.1334970410228064\n",
      "-1.2892611938117313\n",
      "-0.1982902566629641\n",
      "2.457587626290851\n",
      "1.0672155507363046\n",
      "0.641420655594048\n",
      "1.103921664604996\n",
      "1.8817549911074853\n",
      "0.5935881147911207\n",
      "2.0708785257760858\n",
      "1.0697983584569932\n",
      "0.1665195100182666\n",
      "1.7194765552886366\n",
      "-2.359214738012778\n",
      "-0.5713489619287757\n",
      "0.2657870467480051\n",
      "-0.9120909131338855\n",
      "-0.15605840282949943\n",
      "-0.6387908963776368\n",
      "-0.6544152115856667\n",
      "2.711926334530005\n",
      "0.6274738890733788\n"
     ]
    }
   ],
   "source": [
    "print_elems(image)"
   ]
  },
  {
   "cell_type": "code",
   "execution_count": 244,
   "metadata": {},
   "outputs": [
    {
     "data": {
      "text/plain": [
       "15"
      ]
     },
     "execution_count": 244,
     "metadata": {},
     "output_type": "execute_result"
    }
   ],
   "source": [
    "image.shape[1]"
   ]
  },
  {
   "cell_type": "code",
   "execution_count": 258,
   "metadata": {},
   "outputs": [
    {
     "data": {
      "text/plain": [
       "array([-0.51664792, -0.18907167, -0.41619802,  0.72465766, -0.68996068,\n",
       "        0.48641448,  0.85151895,  0.48624933, -0.83423985,  1.34499246,\n",
       "       -0.67821268,  0.42643507, -0.75333479, -1.74411025,  0.22575027])"
      ]
     },
     "execution_count": 258,
     "metadata": {},
     "output_type": "execute_result"
    }
   ],
   "source": [
    "image[0]"
   ]
  }
 ],
 "metadata": {
  "accelerator": "GPU",
  "colab": {
   "collapsed_sections": [
    "hDV-_nrtqtO2",
    "g38RFzmI1Pq0"
   ],
   "name": "05_Array_image_manipulation.ipynb",
   "provenance": [],
   "toc_visible": true
  },
  "kernelspec": {
   "display_name": "Python 3 (ipykernel)",
   "language": "python",
   "name": "python3"
  },
  "language_info": {
   "codemirror_mode": {
    "name": "ipython",
    "version": 3
   },
   "file_extension": ".py",
   "mimetype": "text/x-python",
   "name": "python",
   "nbconvert_exporter": "python",
   "pygments_lexer": "ipython3",
   "version": "3.9.12"
  }
 },
 "nbformat": 4,
 "nbformat_minor": 4
}
